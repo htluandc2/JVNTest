{
 "cells": [
  {
   "cell_type": "code",
   "execution_count": 1,
   "metadata": {},
   "outputs": [],
   "source": [
    "import os, math, subprocess\n",
    "import pandas as pd\n",
    "import numpy as np\n",
    "\n",
    "get_ipython().run_line_magic('matplotlib', 'inline')\n",
    "import matplotlib.pyplot as plt\n",
    "\n",
    "import seaborn as sns\n",
    "\n",
    "# some settings for displaying Pandas results\n",
    "pd.set_option('display.width', 2000)\n",
    "pd.set_option('display.max_rows', 500)\n",
    "pd.set_option('display.max_columns', 500)\n",
    "pd.set_option('display.precision', 4)\n",
    "pd.set_option('display.max_colwidth', -1)\n",
    "file_data = 'data.csv'\n",
    "\n",
    "from scipy import stats\n",
    "\n",
    "plt.style.use(\"seaborn\")"
   ]
  },
  {
   "cell_type": "code",
   "execution_count": 2,
   "metadata": {},
   "outputs": [],
   "source": [
    "def halfHeatMap(df, mirror=True):\n",
    "    # Create Correlation df\n",
    "    corr = df.corr()\n",
    "    # Plot figsize\n",
    "    fig, ax = plt.subplots(figsize=(10, 10))\n",
    "    # Generate Color Map\n",
    "    colormap = sns.diverging_palette(220, 10, as_cmap=True)\n",
    "\n",
    "    if mirror == True:\n",
    "        #Generate Heat Map, allow annotations and place floats in map\n",
    "        sns.heatmap(corr, cmap=colormap, annot=True, fmt=\".2f\")\n",
    "        #Apply xticks\n",
    "        plt.xticks(range(len(corr.columns)), corr.columns);\n",
    "        #Apply yticks\n",
    "        plt.yticks(range(len(corr.columns)), corr.columns)\n",
    "        #show plot\n",
    "    else:\n",
    "        # Drop self-correlations\n",
    "        dropSelf = np.zeros_like(corr)\n",
    "        dropSelf[np.triu_indices_from(dropSelf)] = True\n",
    "        # Generate Color Map\n",
    "        colormap = sns.diverging_palette(220, 10, as_cmap=True)\n",
    "        # Generate Heat Map, allow annotations and place floats in map\n",
    "        sns.heatmap(corr, cmap=colormap, annot=True, fmt=\".2f\", mask=dropSelf)\n",
    "        # Apply xticks\n",
    "        plt.xticks(range(len(corr.columns)), corr.columns);\n",
    "        # Apply yticks\n",
    "        plt.yticks(range(len(corr.columns)), corr.columns)\n",
    "        # show plot"
   ]
  },
  {
   "cell_type": "code",
   "execution_count": 3,
   "metadata": {},
   "outputs": [
    {
     "data": {
      "text/html": [
       "<div>\n",
       "<style scoped>\n",
       "    .dataframe tbody tr th:only-of-type {\n",
       "        vertical-align: middle;\n",
       "    }\n",
       "\n",
       "    .dataframe tbody tr th {\n",
       "        vertical-align: top;\n",
       "    }\n",
       "\n",
       "    .dataframe thead th {\n",
       "        text-align: right;\n",
       "    }\n",
       "</style>\n",
       "<table border=\"1\" class=\"dataframe\">\n",
       "  <thead>\n",
       "    <tr style=\"text-align: right;\">\n",
       "      <th></th>\n",
       "      <th>Year</th>\n",
       "      <th>GDP</th>\n",
       "      <th>UPR</th>\n",
       "    </tr>\n",
       "  </thead>\n",
       "  <tbody>\n",
       "    <tr>\n",
       "      <th>0</th>\n",
       "      <td>1980</td>\n",
       "      <td>27.847</td>\n",
       "      <td>NaN</td>\n",
       "    </tr>\n",
       "    <tr>\n",
       "      <th>1</th>\n",
       "      <td>1981</td>\n",
       "      <td>13.875</td>\n",
       "      <td>NaN</td>\n",
       "    </tr>\n",
       "    <tr>\n",
       "      <th>2</th>\n",
       "      <td>1982</td>\n",
       "      <td>18.405</td>\n",
       "      <td>NaN</td>\n",
       "    </tr>\n",
       "    <tr>\n",
       "      <th>3</th>\n",
       "      <td>1983</td>\n",
       "      <td>27.726</td>\n",
       "      <td>NaN</td>\n",
       "    </tr>\n",
       "    <tr>\n",
       "      <th>4</th>\n",
       "      <td>1984</td>\n",
       "      <td>48.177</td>\n",
       "      <td>NaN</td>\n",
       "    </tr>\n",
       "    <tr>\n",
       "      <th>5</th>\n",
       "      <td>1985</td>\n",
       "      <td>14.999</td>\n",
       "      <td>NaN</td>\n",
       "    </tr>\n",
       "    <tr>\n",
       "      <th>6</th>\n",
       "      <td>1986</td>\n",
       "      <td>33.873</td>\n",
       "      <td>NaN</td>\n",
       "    </tr>\n",
       "    <tr>\n",
       "      <th>7</th>\n",
       "      <td>1987</td>\n",
       "      <td>42.045</td>\n",
       "      <td>NaN</td>\n",
       "    </tr>\n",
       "    <tr>\n",
       "      <th>8</th>\n",
       "      <td>1988</td>\n",
       "      <td>23.234</td>\n",
       "      <td>NaN</td>\n",
       "    </tr>\n",
       "    <tr>\n",
       "      <th>9</th>\n",
       "      <td>1989</td>\n",
       "      <td>6.293</td>\n",
       "      <td>NaN</td>\n",
       "    </tr>\n",
       "    <tr>\n",
       "      <th>10</th>\n",
       "      <td>1990</td>\n",
       "      <td>6.472</td>\n",
       "      <td>12.3</td>\n",
       "    </tr>\n",
       "    <tr>\n",
       "      <th>11</th>\n",
       "      <td>1991</td>\n",
       "      <td>7.642</td>\n",
       "      <td>10.4</td>\n",
       "    </tr>\n",
       "    <tr>\n",
       "      <th>12</th>\n",
       "      <td>1992</td>\n",
       "      <td>9.867</td>\n",
       "      <td>11.0</td>\n",
       "    </tr>\n",
       "    <tr>\n",
       "      <th>13</th>\n",
       "      <td>1993</td>\n",
       "      <td>13.181</td>\n",
       "      <td>10.6</td>\n",
       "    </tr>\n",
       "    <tr>\n",
       "      <th>14</th>\n",
       "      <td>1994</td>\n",
       "      <td>16.312</td>\n",
       "      <td>10.3</td>\n",
       "    </tr>\n",
       "    <tr>\n",
       "      <th>15</th>\n",
       "      <td>1995</td>\n",
       "      <td>20.798</td>\n",
       "      <td>5.8</td>\n",
       "    </tr>\n",
       "    <tr>\n",
       "      <th>16</th>\n",
       "      <td>1996</td>\n",
       "      <td>24.692</td>\n",
       "      <td>5.9</td>\n",
       "    </tr>\n",
       "    <tr>\n",
       "      <th>17</th>\n",
       "      <td>1997</td>\n",
       "      <td>26.892</td>\n",
       "      <td>6.0</td>\n",
       "    </tr>\n",
       "    <tr>\n",
       "      <th>18</th>\n",
       "      <td>1998</td>\n",
       "      <td>27.234</td>\n",
       "      <td>6.9</td>\n",
       "    </tr>\n",
       "    <tr>\n",
       "      <th>19</th>\n",
       "      <td>1999</td>\n",
       "      <td>28.702</td>\n",
       "      <td>6.7</td>\n",
       "    </tr>\n",
       "  </tbody>\n",
       "</table>\n",
       "</div>"
      ],
      "text/plain": [
       "    Year     GDP   UPR\n",
       "0   1980  27.847 NaN  \n",
       "1   1981  13.875 NaN  \n",
       "2   1982  18.405 NaN  \n",
       "3   1983  27.726 NaN  \n",
       "4   1984  48.177 NaN  \n",
       "5   1985  14.999 NaN  \n",
       "6   1986  33.873 NaN  \n",
       "7   1987  42.045 NaN  \n",
       "8   1988  23.234 NaN  \n",
       "9   1989  6.293  NaN  \n",
       "10  1990  6.472   12.3\n",
       "11  1991  7.642   10.4\n",
       "12  1992  9.867   11.0\n",
       "13  1993  13.181  10.6\n",
       "14  1994  16.312  10.3\n",
       "15  1995  20.798  5.8 \n",
       "16  1996  24.692  5.9 \n",
       "17  1997  26.892  6.0 \n",
       "18  1998  27.234  6.9 \n",
       "19  1999  28.702  6.7 "
      ]
     },
     "execution_count": 3,
     "metadata": {},
     "output_type": "execute_result"
    }
   ],
   "source": [
    "df = pd.read_csv(file_data)\n",
    "df.columns = ['Year', 'GDP', 'UPR']\n",
    "\n",
    "\n",
    "df = df.apply(pd.to_numeric, errors='coerce')\n",
    "df.head(20)"
   ]
  },
  {
   "cell_type": "code",
   "execution_count": 4,
   "metadata": {},
   "outputs": [
    {
     "name": "stdout",
     "output_type": "stream",
     "text": [
      "<class 'pandas.core.frame.DataFrame'>\n",
      "RangeIndex: 39 entries, 0 to 38\n",
      "Data columns (total 3 columns):\n",
      "Year    39 non-null int64\n",
      "GDP     39 non-null float64\n",
      "UPR     29 non-null float64\n",
      "dtypes: float64(2), int64(1)\n",
      "memory usage: 1016.0 bytes\n"
     ]
    },
    {
     "data": {
      "text/html": [
       "<div>\n",
       "<style scoped>\n",
       "    .dataframe tbody tr th:only-of-type {\n",
       "        vertical-align: middle;\n",
       "    }\n",
       "\n",
       "    .dataframe tbody tr th {\n",
       "        vertical-align: top;\n",
       "    }\n",
       "\n",
       "    .dataframe thead th {\n",
       "        text-align: right;\n",
       "    }\n",
       "</style>\n",
       "<table border=\"1\" class=\"dataframe\">\n",
       "  <thead>\n",
       "    <tr style=\"text-align: right;\">\n",
       "      <th></th>\n",
       "      <th>Year</th>\n",
       "      <th>GDP</th>\n",
       "      <th>UPR</th>\n",
       "    </tr>\n",
       "  </thead>\n",
       "  <tbody>\n",
       "    <tr>\n",
       "      <th>count</th>\n",
       "      <td>39.0000</td>\n",
       "      <td>39.0000</td>\n",
       "      <td>29.0000</td>\n",
       "    </tr>\n",
       "    <tr>\n",
       "      <th>mean</th>\n",
       "      <td>1999.0000</td>\n",
       "      <td>67.7161</td>\n",
       "      <td>5.7034</td>\n",
       "    </tr>\n",
       "    <tr>\n",
       "      <th>std</th>\n",
       "      <td>11.4018</td>\n",
       "      <td>68.1957</td>\n",
       "      <td>2.8550</td>\n",
       "    </tr>\n",
       "    <tr>\n",
       "      <th>min</th>\n",
       "      <td>1980.0000</td>\n",
       "      <td>6.2930</td>\n",
       "      <td>2.1000</td>\n",
       "    </tr>\n",
       "    <tr>\n",
       "      <th>25%</th>\n",
       "      <td>1989.5000</td>\n",
       "      <td>22.0160</td>\n",
       "      <td>4.3000</td>\n",
       "    </tr>\n",
       "    <tr>\n",
       "      <th>50%</th>\n",
       "      <td>1999.0000</td>\n",
       "      <td>33.8730</td>\n",
       "      <td>5.6000</td>\n",
       "    </tr>\n",
       "    <tr>\n",
       "      <th>75%</th>\n",
       "      <td>2008.5000</td>\n",
       "      <td>99.9515</td>\n",
       "      <td>6.4000</td>\n",
       "    </tr>\n",
       "    <tr>\n",
       "      <th>max</th>\n",
       "      <td>2018.0000</td>\n",
       "      <td>241.2720</td>\n",
       "      <td>12.3000</td>\n",
       "    </tr>\n",
       "  </tbody>\n",
       "</table>\n",
       "</div>"
      ],
      "text/plain": [
       "            Year       GDP      UPR\n",
       "count  39.0000    39.0000   29.0000\n",
       "mean   1999.0000  67.7161   5.7034 \n",
       "std    11.4018    68.1957   2.8550 \n",
       "min    1980.0000  6.2930    2.1000 \n",
       "25%    1989.5000  22.0160   4.3000 \n",
       "50%    1999.0000  33.8730   5.6000 \n",
       "75%    2008.5000  99.9515   6.4000 \n",
       "max    2018.0000  241.2720  12.3000"
      ]
     },
     "execution_count": 4,
     "metadata": {},
     "output_type": "execute_result"
    }
   ],
   "source": [
    "df.info()\n",
    "df.describe()"
   ]
  },
  {
   "cell_type": "markdown",
   "metadata": {},
   "source": [
    "<h1>1. Data Imputation:</h1>\n",
    "\n",
    "With this data set, we can replace by zero/constant value or mean value. The advantages of this approach are fast, works well with small numerical datasets. But they 're not accurate. "
   ]
  },
  {
   "cell_type": "code",
   "execution_count": 5,
   "metadata": {},
   "outputs": [],
   "source": [
    "df_replace= df.copy()\n",
    "df_replace[\"UPR_replace_by_0\"] = df_replace[\"UPR\"].fillna(0)"
   ]
  },
  {
   "cell_type": "code",
   "execution_count": 6,
   "metadata": {},
   "outputs": [
    {
     "data": {
      "text/html": [
       "<div>\n",
       "<style scoped>\n",
       "    .dataframe tbody tr th:only-of-type {\n",
       "        vertical-align: middle;\n",
       "    }\n",
       "\n",
       "    .dataframe tbody tr th {\n",
       "        vertical-align: top;\n",
       "    }\n",
       "\n",
       "    .dataframe thead th {\n",
       "        text-align: right;\n",
       "    }\n",
       "</style>\n",
       "<table border=\"1\" class=\"dataframe\">\n",
       "  <thead>\n",
       "    <tr style=\"text-align: right;\">\n",
       "      <th></th>\n",
       "      <th>Year</th>\n",
       "      <th>GDP</th>\n",
       "      <th>UPR</th>\n",
       "      <th>UPR_replace_by_0</th>\n",
       "    </tr>\n",
       "  </thead>\n",
       "  <tbody>\n",
       "    <tr>\n",
       "      <th>5</th>\n",
       "      <td>1985</td>\n",
       "      <td>14.999</td>\n",
       "      <td>NaN</td>\n",
       "      <td>0.0</td>\n",
       "    </tr>\n",
       "    <tr>\n",
       "      <th>6</th>\n",
       "      <td>1986</td>\n",
       "      <td>33.873</td>\n",
       "      <td>NaN</td>\n",
       "      <td>0.0</td>\n",
       "    </tr>\n",
       "    <tr>\n",
       "      <th>7</th>\n",
       "      <td>1987</td>\n",
       "      <td>42.045</td>\n",
       "      <td>NaN</td>\n",
       "      <td>0.0</td>\n",
       "    </tr>\n",
       "    <tr>\n",
       "      <th>8</th>\n",
       "      <td>1988</td>\n",
       "      <td>23.234</td>\n",
       "      <td>NaN</td>\n",
       "      <td>0.0</td>\n",
       "    </tr>\n",
       "    <tr>\n",
       "      <th>9</th>\n",
       "      <td>1989</td>\n",
       "      <td>6.293</td>\n",
       "      <td>NaN</td>\n",
       "      <td>0.0</td>\n",
       "    </tr>\n",
       "    <tr>\n",
       "      <th>10</th>\n",
       "      <td>1990</td>\n",
       "      <td>6.472</td>\n",
       "      <td>12.3</td>\n",
       "      <td>12.3</td>\n",
       "    </tr>\n",
       "    <tr>\n",
       "      <th>11</th>\n",
       "      <td>1991</td>\n",
       "      <td>7.642</td>\n",
       "      <td>10.4</td>\n",
       "      <td>10.4</td>\n",
       "    </tr>\n",
       "    <tr>\n",
       "      <th>12</th>\n",
       "      <td>1992</td>\n",
       "      <td>9.867</td>\n",
       "      <td>11.0</td>\n",
       "      <td>11.0</td>\n",
       "    </tr>\n",
       "    <tr>\n",
       "      <th>13</th>\n",
       "      <td>1993</td>\n",
       "      <td>13.181</td>\n",
       "      <td>10.6</td>\n",
       "      <td>10.6</td>\n",
       "    </tr>\n",
       "    <tr>\n",
       "      <th>14</th>\n",
       "      <td>1994</td>\n",
       "      <td>16.312</td>\n",
       "      <td>10.3</td>\n",
       "      <td>10.3</td>\n",
       "    </tr>\n",
       "  </tbody>\n",
       "</table>\n",
       "</div>"
      ],
      "text/plain": [
       "    Year     GDP   UPR  UPR_replace_by_0\n",
       "5   1985  14.999 NaN    0.0             \n",
       "6   1986  33.873 NaN    0.0             \n",
       "7   1987  42.045 NaN    0.0             \n",
       "8   1988  23.234 NaN    0.0             \n",
       "9   1989  6.293  NaN    0.0             \n",
       "10  1990  6.472   12.3  12.3            \n",
       "11  1991  7.642   10.4  10.4            \n",
       "12  1992  9.867   11.0  11.0            \n",
       "13  1993  13.181  10.6  10.6            \n",
       "14  1994  16.312  10.3  10.3            "
      ]
     },
     "execution_count": 6,
     "metadata": {},
     "output_type": "execute_result"
    }
   ],
   "source": [
    "df_replace[5:15]"
   ]
  },
  {
   "cell_type": "code",
   "execution_count": 7,
   "metadata": {},
   "outputs": [],
   "source": [
    "df_replace[\"UPR_replace_by_mean\"] = df_replace[\"UPR\"].fillna(df_replace[\"UPR\"].mean())"
   ]
  },
  {
   "cell_type": "code",
   "execution_count": 8,
   "metadata": {},
   "outputs": [
    {
     "data": {
      "text/html": [
       "<div>\n",
       "<style scoped>\n",
       "    .dataframe tbody tr th:only-of-type {\n",
       "        vertical-align: middle;\n",
       "    }\n",
       "\n",
       "    .dataframe tbody tr th {\n",
       "        vertical-align: top;\n",
       "    }\n",
       "\n",
       "    .dataframe thead th {\n",
       "        text-align: right;\n",
       "    }\n",
       "</style>\n",
       "<table border=\"1\" class=\"dataframe\">\n",
       "  <thead>\n",
       "    <tr style=\"text-align: right;\">\n",
       "      <th></th>\n",
       "      <th>Year</th>\n",
       "      <th>GDP</th>\n",
       "      <th>UPR</th>\n",
       "      <th>UPR_replace_by_0</th>\n",
       "      <th>UPR_replace_by_mean</th>\n",
       "    </tr>\n",
       "  </thead>\n",
       "  <tbody>\n",
       "    <tr>\n",
       "      <th>5</th>\n",
       "      <td>1985</td>\n",
       "      <td>14.999</td>\n",
       "      <td>NaN</td>\n",
       "      <td>0.0</td>\n",
       "      <td>5.7034</td>\n",
       "    </tr>\n",
       "    <tr>\n",
       "      <th>6</th>\n",
       "      <td>1986</td>\n",
       "      <td>33.873</td>\n",
       "      <td>NaN</td>\n",
       "      <td>0.0</td>\n",
       "      <td>5.7034</td>\n",
       "    </tr>\n",
       "    <tr>\n",
       "      <th>7</th>\n",
       "      <td>1987</td>\n",
       "      <td>42.045</td>\n",
       "      <td>NaN</td>\n",
       "      <td>0.0</td>\n",
       "      <td>5.7034</td>\n",
       "    </tr>\n",
       "    <tr>\n",
       "      <th>8</th>\n",
       "      <td>1988</td>\n",
       "      <td>23.234</td>\n",
       "      <td>NaN</td>\n",
       "      <td>0.0</td>\n",
       "      <td>5.7034</td>\n",
       "    </tr>\n",
       "    <tr>\n",
       "      <th>9</th>\n",
       "      <td>1989</td>\n",
       "      <td>6.293</td>\n",
       "      <td>NaN</td>\n",
       "      <td>0.0</td>\n",
       "      <td>5.7034</td>\n",
       "    </tr>\n",
       "    <tr>\n",
       "      <th>10</th>\n",
       "      <td>1990</td>\n",
       "      <td>6.472</td>\n",
       "      <td>12.3</td>\n",
       "      <td>12.3</td>\n",
       "      <td>12.3000</td>\n",
       "    </tr>\n",
       "    <tr>\n",
       "      <th>11</th>\n",
       "      <td>1991</td>\n",
       "      <td>7.642</td>\n",
       "      <td>10.4</td>\n",
       "      <td>10.4</td>\n",
       "      <td>10.4000</td>\n",
       "    </tr>\n",
       "    <tr>\n",
       "      <th>12</th>\n",
       "      <td>1992</td>\n",
       "      <td>9.867</td>\n",
       "      <td>11.0</td>\n",
       "      <td>11.0</td>\n",
       "      <td>11.0000</td>\n",
       "    </tr>\n",
       "    <tr>\n",
       "      <th>13</th>\n",
       "      <td>1993</td>\n",
       "      <td>13.181</td>\n",
       "      <td>10.6</td>\n",
       "      <td>10.6</td>\n",
       "      <td>10.6000</td>\n",
       "    </tr>\n",
       "    <tr>\n",
       "      <th>14</th>\n",
       "      <td>1994</td>\n",
       "      <td>16.312</td>\n",
       "      <td>10.3</td>\n",
       "      <td>10.3</td>\n",
       "      <td>10.3000</td>\n",
       "    </tr>\n",
       "  </tbody>\n",
       "</table>\n",
       "</div>"
      ],
      "text/plain": [
       "    Year     GDP   UPR  UPR_replace_by_0  UPR_replace_by_mean\n",
       "5   1985  14.999 NaN    0.0               5.7034             \n",
       "6   1986  33.873 NaN    0.0               5.7034             \n",
       "7   1987  42.045 NaN    0.0               5.7034             \n",
       "8   1988  23.234 NaN    0.0               5.7034             \n",
       "9   1989  6.293  NaN    0.0               5.7034             \n",
       "10  1990  6.472   12.3  12.3              12.3000            \n",
       "11  1991  7.642   10.4  10.4              10.4000            \n",
       "12  1992  9.867   11.0  11.0              11.0000            \n",
       "13  1993  13.181  10.6  10.6              10.6000            \n",
       "14  1994  16.312  10.3  10.3              10.3000            "
      ]
     },
     "execution_count": 8,
     "metadata": {},
     "output_type": "execute_result"
    }
   ],
   "source": [
    "df_replace[5:15]"
   ]
  },
  {
   "cell_type": "code",
   "execution_count": 9,
   "metadata": {},
   "outputs": [
    {
     "data": {
      "text/plain": [
       "Text(0, 0.5, 'Unemployment rate')"
      ]
     },
     "execution_count": 9,
     "metadata": {},
     "output_type": "execute_result"
    },
    {
     "data": {
      "image/png": "[encoded data removed]",
      "text/plain": [
       "<Figure size 1080x360 with 2 Axes>"
      ]
     },
     "metadata": {
      "needs_background": "light"
     },
     "output_type": "display_data"
    }
   ],
   "source": [
    "year = df_replace[\"Year\"].values\n",
    "UPR_replace_by_0 = df_replace[\"UPR_replace_by_0\"].values\n",
    "UPR_replace_by_mean = df_replace[\"UPR_replace_by_mean\"].values\n",
    "\n",
    "fig, ax = plt.subplots(1, 2, figsize=(15,5))\n",
    "\n",
    "ax[0].plot(year, UPR_replace_by_0, 'o')\n",
    "ax[0].set_title(\"Repalce missing points by 0-values\")\n",
    "ax[0].set_xlabel(\"Year\")\n",
    "ax[0].set_ylim(-1, 14)\n",
    "ax[0].set_ylabel(\"Unemployment rate\")\n",
    "\n",
    "ax[1].plot(year, UPR_replace_by_mean, 'o')\n",
    "ax[1].set_title(\"Repalce missing points by mean-values\")\n",
    "ax[1].set_xlabel(\"Year\")\n",
    "ax[0].set_ylim(-1, 14)\n",
    "ax[1].set_ylabel(\"Unemployment rate\")"
   ]
  },
  {
   "cell_type": "markdown",
   "metadata": {},
   "source": [
    "Maybe they are wrong. In this proposal, we propose Okun's law, a model \"observed relationship between unemployment and losses in a country's production\". This model, parameter, errors and features will explain in the next section. They are:\n",
    "\n",
    "- k, c\n",
    "- GDP_annual_diff_rate\n",
    "- GDP_diff\n",
    "\n",
    "We will use the extrapolation method by \"Okun's laws\" to replace missing points."
   ]
  },
  {
   "cell_type": "code",
   "execution_count": 10,
   "metadata": {},
   "outputs": [],
   "source": [
    "(k, c) = (0.1308116527691924, -2.865579108434284)"
   ]
  },
  {
   "cell_type": "code",
   "execution_count": 11,
   "metadata": {},
   "outputs": [
    {
     "data": {
      "text/html": [
       "<div>\n",
       "<style scoped>\n",
       "    .dataframe tbody tr th:only-of-type {\n",
       "        vertical-align: middle;\n",
       "    }\n",
       "\n",
       "    .dataframe tbody tr th {\n",
       "        vertical-align: top;\n",
       "    }\n",
       "\n",
       "    .dataframe thead th {\n",
       "        text-align: right;\n",
       "    }\n",
       "</style>\n",
       "<table border=\"1\" class=\"dataframe\">\n",
       "  <thead>\n",
       "    <tr style=\"text-align: right;\">\n",
       "      <th></th>\n",
       "      <th>Year</th>\n",
       "      <th>GDP</th>\n",
       "      <th>UPR</th>\n",
       "      <th>GDP_diff</th>\n",
       "      <th>GDP_annual_diff_rate</th>\n",
       "    </tr>\n",
       "  </thead>\n",
       "  <tbody>\n",
       "    <tr>\n",
       "      <th>0</th>\n",
       "      <td>1980</td>\n",
       "      <td>27.847</td>\n",
       "      <td>NaN</td>\n",
       "      <td>NaN</td>\n",
       "      <td>NaN</td>\n",
       "    </tr>\n",
       "    <tr>\n",
       "      <th>1</th>\n",
       "      <td>1981</td>\n",
       "      <td>13.875</td>\n",
       "      <td>NaN</td>\n",
       "      <td>-13.972</td>\n",
       "      <td>-0.5017</td>\n",
       "    </tr>\n",
       "    <tr>\n",
       "      <th>2</th>\n",
       "      <td>1982</td>\n",
       "      <td>18.405</td>\n",
       "      <td>NaN</td>\n",
       "      <td>4.530</td>\n",
       "      <td>0.3265</td>\n",
       "    </tr>\n",
       "    <tr>\n",
       "      <th>3</th>\n",
       "      <td>1983</td>\n",
       "      <td>27.726</td>\n",
       "      <td>NaN</td>\n",
       "      <td>9.321</td>\n",
       "      <td>0.5064</td>\n",
       "    </tr>\n",
       "    <tr>\n",
       "      <th>4</th>\n",
       "      <td>1984</td>\n",
       "      <td>48.177</td>\n",
       "      <td>NaN</td>\n",
       "      <td>20.451</td>\n",
       "      <td>0.7376</td>\n",
       "    </tr>\n",
       "  </tbody>\n",
       "</table>\n",
       "</div>"
      ],
      "text/plain": [
       "   Year     GDP  UPR  GDP_diff  GDP_annual_diff_rate\n",
       "0  1980  27.847 NaN  NaN       NaN                  \n",
       "1  1981  13.875 NaN  -13.972   -0.5017              \n",
       "2  1982  18.405 NaN   4.530     0.3265              \n",
       "3  1983  27.726 NaN   9.321     0.5064              \n",
       "4  1984  48.177 NaN   20.451    0.7376              "
      ]
     },
     "execution_count": 11,
     "metadata": {},
     "output_type": "execute_result"
    }
   ],
   "source": [
    "df_exploding = df.copy()\n",
    "\n",
    "# Tính different theo từng năm\n",
    "df_exploding[\"GDP_diff\"] = df_exploding[\"GDP\"].diff()\n",
    "\n",
    "# Chia cho giá trị của năm trước đó để tìm để tìm ra giá trị tăng trưởng thường niên\n",
    "df_exploding[\"GDP_annual_diff_rate\"] = df_exploding[\"GDP_diff\"] / df_exploding[\"GDP\"].shift(1)\n",
    "df_exploding[:5]"
   ]
  },
  {
   "cell_type": "code",
   "execution_count": 12,
   "metadata": {},
   "outputs": [],
   "source": [
    "UPR = df_exploding[\"UPR\"].values\n",
    "GDP_annual_diff_rate = df_exploding[\"GDP_annual_diff_rate\"].values\n",
    "\n",
    "import math\n",
    "# Get missing_point\n",
    "missing_point = -1\n",
    "for i in range(len(UPR)):\n",
    "    if math.isnan(UPR[i]):\n",
    "        missing_point =  i\n",
    "\n",
    "UPR_okun= np.zeros(shape=(len(UPR),))\n",
    "\n",
    "# Dự đoán trên phần data đã biết\n",
    "UPR_okun[len(UPR) - 1] = UPR[len(UPR) - 1] \n",
    "for i in range(len(UPR) - 2, -1, -1):\n",
    "    UPR_okun[i] = UPR[i + 1] + (GDP_annual_diff_rate[i + 1] - k) / c\n",
    "    \n",
    "# Dự đoán trên phần data chưa biết\n",
    "for i in range(missing_point, -1, -1):\n",
    "    UPR_okun[i] = UPR_okun[i + 1] + (GDP_annual_diff_rate[i + 1] - k) / c"
   ]
  },
  {
   "cell_type": "code",
   "execution_count": 13,
   "metadata": {},
   "outputs": [],
   "source": [
    "df_replace[\"UPR_replace_by_Okun\"] = UPR_okun"
   ]
  },
  {
   "cell_type": "code",
   "execution_count": 14,
   "metadata": {},
   "outputs": [
    {
     "data": {
      "text/html": [
       "<div>\n",
       "<style scoped>\n",
       "    .dataframe tbody tr th:only-of-type {\n",
       "        vertical-align: middle;\n",
       "    }\n",
       "\n",
       "    .dataframe tbody tr th {\n",
       "        vertical-align: top;\n",
       "    }\n",
       "\n",
       "    .dataframe thead th {\n",
       "        text-align: right;\n",
       "    }\n",
       "</style>\n",
       "<table border=\"1\" class=\"dataframe\">\n",
       "  <thead>\n",
       "    <tr style=\"text-align: right;\">\n",
       "      <th></th>\n",
       "      <th>Year</th>\n",
       "      <th>GDP</th>\n",
       "      <th>UPR</th>\n",
       "      <th>UPR_replace_by_0</th>\n",
       "      <th>UPR_replace_by_mean</th>\n",
       "      <th>UPR_replace_by_Okun</th>\n",
       "    </tr>\n",
       "  </thead>\n",
       "  <tbody>\n",
       "    <tr>\n",
       "      <th>0</th>\n",
       "      <td>1980</td>\n",
       "      <td>27.847</td>\n",
       "      <td>NaN</td>\n",
       "      <td>0.0</td>\n",
       "      <td>5.7034</td>\n",
       "      <td>10.5837</td>\n",
       "    </tr>\n",
       "    <tr>\n",
       "      <th>1</th>\n",
       "      <td>1981</td>\n",
       "      <td>13.875</td>\n",
       "      <td>NaN</td>\n",
       "      <td>0.0</td>\n",
       "      <td>5.7034</td>\n",
       "      <td>10.3630</td>\n",
       "    </tr>\n",
       "    <tr>\n",
       "      <th>2</th>\n",
       "      <td>1982</td>\n",
       "      <td>18.405</td>\n",
       "      <td>NaN</td>\n",
       "      <td>0.0</td>\n",
       "      <td>5.7034</td>\n",
       "      <td>10.4313</td>\n",
       "    </tr>\n",
       "    <tr>\n",
       "      <th>3</th>\n",
       "      <td>1983</td>\n",
       "      <td>27.726</td>\n",
       "      <td>NaN</td>\n",
       "      <td>0.0</td>\n",
       "      <td>5.7034</td>\n",
       "      <td>10.5624</td>\n",
       "    </tr>\n",
       "    <tr>\n",
       "      <th>4</th>\n",
       "      <td>1984</td>\n",
       "      <td>48.177</td>\n",
       "      <td>NaN</td>\n",
       "      <td>0.0</td>\n",
       "      <td>5.7034</td>\n",
       "      <td>10.7741</td>\n",
       "    </tr>\n",
       "    <tr>\n",
       "      <th>5</th>\n",
       "      <td>1985</td>\n",
       "      <td>14.999</td>\n",
       "      <td>NaN</td>\n",
       "      <td>0.0</td>\n",
       "      <td>5.7034</td>\n",
       "      <td>10.4881</td>\n",
       "    </tr>\n",
       "    <tr>\n",
       "      <th>6</th>\n",
       "      <td>1986</td>\n",
       "      <td>33.873</td>\n",
       "      <td>NaN</td>\n",
       "      <td>0.0</td>\n",
       "      <td>5.7034</td>\n",
       "      <td>10.8816</td>\n",
       "    </tr>\n",
       "    <tr>\n",
       "      <th>7</th>\n",
       "      <td>1987</td>\n",
       "      <td>42.045</td>\n",
       "      <td>NaN</td>\n",
       "      <td>0.0</td>\n",
       "      <td>5.7034</td>\n",
       "      <td>10.9202</td>\n",
       "    </tr>\n",
       "    <tr>\n",
       "      <th>8</th>\n",
       "      <td>1988</td>\n",
       "      <td>23.234</td>\n",
       "      <td>NaN</td>\n",
       "      <td>0.0</td>\n",
       "      <td>5.7034</td>\n",
       "      <td>10.7184</td>\n",
       "    </tr>\n",
       "    <tr>\n",
       "      <th>9</th>\n",
       "      <td>1989</td>\n",
       "      <td>6.293</td>\n",
       "      <td>NaN</td>\n",
       "      <td>0.0</td>\n",
       "      <td>5.7034</td>\n",
       "      <td>10.4183</td>\n",
       "    </tr>\n",
       "    <tr>\n",
       "      <th>10</th>\n",
       "      <td>1990</td>\n",
       "      <td>6.472</td>\n",
       "      <td>12.3</td>\n",
       "      <td>12.3</td>\n",
       "      <td>12.3000</td>\n",
       "      <td>10.3826</td>\n",
       "    </tr>\n",
       "    <tr>\n",
       "      <th>11</th>\n",
       "      <td>1991</td>\n",
       "      <td>7.642</td>\n",
       "      <td>10.4</td>\n",
       "      <td>10.4</td>\n",
       "      <td>10.4000</td>\n",
       "      <td>10.9440</td>\n",
       "    </tr>\n",
       "    <tr>\n",
       "      <th>12</th>\n",
       "      <td>1992</td>\n",
       "      <td>9.867</td>\n",
       "      <td>11.0</td>\n",
       "      <td>11.0</td>\n",
       "      <td>11.0000</td>\n",
       "      <td>10.5284</td>\n",
       "    </tr>\n",
       "    <tr>\n",
       "      <th>13</th>\n",
       "      <td>1993</td>\n",
       "      <td>13.181</td>\n",
       "      <td>10.6</td>\n",
       "      <td>10.6</td>\n",
       "      <td>10.6000</td>\n",
       "      <td>10.2628</td>\n",
       "    </tr>\n",
       "    <tr>\n",
       "      <th>14</th>\n",
       "      <td>1994</td>\n",
       "      <td>16.312</td>\n",
       "      <td>10.3</td>\n",
       "      <td>10.3</td>\n",
       "      <td>10.3000</td>\n",
       "      <td>5.7497</td>\n",
       "    </tr>\n",
       "  </tbody>\n",
       "</table>\n",
       "</div>"
      ],
      "text/plain": [
       "    Year     GDP   UPR  UPR_replace_by_0  UPR_replace_by_mean  UPR_replace_by_Okun\n",
       "0   1980  27.847 NaN    0.0               5.7034               10.5837            \n",
       "1   1981  13.875 NaN    0.0               5.7034               10.3630            \n",
       "2   1982  18.405 NaN    0.0               5.7034               10.4313            \n",
       "3   1983  27.726 NaN    0.0               5.7034               10.5624            \n",
       "4   1984  48.177 NaN    0.0               5.7034               10.7741            \n",
       "5   1985  14.999 NaN    0.0               5.7034               10.4881            \n",
       "6   1986  33.873 NaN    0.0               5.7034               10.8816            \n",
       "7   1987  42.045 NaN    0.0               5.7034               10.9202            \n",
       "8   1988  23.234 NaN    0.0               5.7034               10.7184            \n",
       "9   1989  6.293  NaN    0.0               5.7034               10.4183            \n",
       "10  1990  6.472   12.3  12.3              12.3000              10.3826            \n",
       "11  1991  7.642   10.4  10.4              10.4000              10.9440            \n",
       "12  1992  9.867   11.0  11.0              11.0000              10.5284            \n",
       "13  1993  13.181  10.6  10.6              10.6000              10.2628            \n",
       "14  1994  16.312  10.3  10.3              10.3000              5.7497             "
      ]
     },
     "execution_count": 14,
     "metadata": {},
     "output_type": "execute_result"
    }
   ],
   "source": [
    "df_replace[0:15]"
   ]
  },
  {
   "cell_type": "code",
   "execution_count": 15,
   "metadata": {},
   "outputs": [
    {
     "data": {
      "text/plain": [
       "<matplotlib.legend.Legend at 0x7fdfef30da90>"
      ]
     },
     "execution_count": 15,
     "metadata": {},
     "output_type": "execute_result"
    },
    {
     "data": {
      "image/png": "[encoded data removed]",
      "text/plain": [
       "<Figure size 576x432 with 1 Axes>"
      ]
     },
     "metadata": {
      "needs_background": "light"
     },
     "output_type": "display_data"
    }
   ],
   "source": [
    "fig = plt.figure(figsize=(8, 6))\n",
    "ax = plt.axes()\n",
    "\n",
    "ax.plot(year, df_replace[\"UPR_replace_by_Okun\"].values, 'o', label='UPR_replace_by_Okun')\n",
    "ax.plot(year, df_replace[\"UPR\"].values, 'o', label='UPR_real')\n",
    "ax.set_title(\"Repalce missing points by Okun's law\")\n",
    "ax.set_xlabel(\"Year\")\n",
    "# ax.set_ylim(-1, 14)\n",
    "ax.set_ylabel(\"Unemployment rate\")\n",
    "\n",
    "ax.legend()"
   ]
  },
  {
   "cell_type": "markdown",
   "metadata": {},
   "source": [
    "The Okun's law predicted \"approximate values\" of Unemployment rate each years. But in 1990s , the error is high. "
   ]
  },
  {
   "cell_type": "code",
   "execution_count": 16,
   "metadata": {},
   "outputs": [
    {
     "data": {
      "text/html": [
       "<div>\n",
       "<style scoped>\n",
       "    .dataframe tbody tr th:only-of-type {\n",
       "        vertical-align: middle;\n",
       "    }\n",
       "\n",
       "    .dataframe tbody tr th {\n",
       "        vertical-align: top;\n",
       "    }\n",
       "\n",
       "    .dataframe thead th {\n",
       "        text-align: right;\n",
       "    }\n",
       "</style>\n",
       "<table border=\"1\" class=\"dataframe\">\n",
       "  <thead>\n",
       "    <tr style=\"text-align: right;\">\n",
       "      <th></th>\n",
       "      <th>Year</th>\n",
       "      <th>GDP</th>\n",
       "      <th>UPR</th>\n",
       "      <th>UPR_replace_by_0</th>\n",
       "      <th>UPR_replace_by_mean</th>\n",
       "      <th>UPR_replace_by_Okun</th>\n",
       "    </tr>\n",
       "  </thead>\n",
       "  <tbody>\n",
       "    <tr>\n",
       "      <th>0</th>\n",
       "      <td>1980</td>\n",
       "      <td>27.847</td>\n",
       "      <td>NaN</td>\n",
       "      <td>0.0</td>\n",
       "      <td>5.7034</td>\n",
       "      <td>10.5837</td>\n",
       "    </tr>\n",
       "    <tr>\n",
       "      <th>1</th>\n",
       "      <td>1981</td>\n",
       "      <td>13.875</td>\n",
       "      <td>NaN</td>\n",
       "      <td>0.0</td>\n",
       "      <td>5.7034</td>\n",
       "      <td>10.3630</td>\n",
       "    </tr>\n",
       "    <tr>\n",
       "      <th>2</th>\n",
       "      <td>1982</td>\n",
       "      <td>18.405</td>\n",
       "      <td>NaN</td>\n",
       "      <td>0.0</td>\n",
       "      <td>5.7034</td>\n",
       "      <td>10.4313</td>\n",
       "    </tr>\n",
       "    <tr>\n",
       "      <th>3</th>\n",
       "      <td>1983</td>\n",
       "      <td>27.726</td>\n",
       "      <td>NaN</td>\n",
       "      <td>0.0</td>\n",
       "      <td>5.7034</td>\n",
       "      <td>10.5624</td>\n",
       "    </tr>\n",
       "    <tr>\n",
       "      <th>4</th>\n",
       "      <td>1984</td>\n",
       "      <td>48.177</td>\n",
       "      <td>NaN</td>\n",
       "      <td>0.0</td>\n",
       "      <td>5.7034</td>\n",
       "      <td>10.7741</td>\n",
       "    </tr>\n",
       "    <tr>\n",
       "      <th>5</th>\n",
       "      <td>1985</td>\n",
       "      <td>14.999</td>\n",
       "      <td>NaN</td>\n",
       "      <td>0.0</td>\n",
       "      <td>5.7034</td>\n",
       "      <td>10.4881</td>\n",
       "    </tr>\n",
       "    <tr>\n",
       "      <th>6</th>\n",
       "      <td>1986</td>\n",
       "      <td>33.873</td>\n",
       "      <td>NaN</td>\n",
       "      <td>0.0</td>\n",
       "      <td>5.7034</td>\n",
       "      <td>10.8816</td>\n",
       "    </tr>\n",
       "    <tr>\n",
       "      <th>7</th>\n",
       "      <td>1987</td>\n",
       "      <td>42.045</td>\n",
       "      <td>NaN</td>\n",
       "      <td>0.0</td>\n",
       "      <td>5.7034</td>\n",
       "      <td>10.9202</td>\n",
       "    </tr>\n",
       "    <tr>\n",
       "      <th>8</th>\n",
       "      <td>1988</td>\n",
       "      <td>23.234</td>\n",
       "      <td>NaN</td>\n",
       "      <td>0.0</td>\n",
       "      <td>5.7034</td>\n",
       "      <td>10.7184</td>\n",
       "    </tr>\n",
       "    <tr>\n",
       "      <th>9</th>\n",
       "      <td>1989</td>\n",
       "      <td>6.293</td>\n",
       "      <td>NaN</td>\n",
       "      <td>0.0</td>\n",
       "      <td>5.7034</td>\n",
       "      <td>10.4183</td>\n",
       "    </tr>\n",
       "    <tr>\n",
       "      <th>10</th>\n",
       "      <td>1990</td>\n",
       "      <td>6.472</td>\n",
       "      <td>12.3</td>\n",
       "      <td>12.3</td>\n",
       "      <td>12.3000</td>\n",
       "      <td>10.3826</td>\n",
       "    </tr>\n",
       "    <tr>\n",
       "      <th>11</th>\n",
       "      <td>1991</td>\n",
       "      <td>7.642</td>\n",
       "      <td>10.4</td>\n",
       "      <td>10.4</td>\n",
       "      <td>10.4000</td>\n",
       "      <td>10.9440</td>\n",
       "    </tr>\n",
       "    <tr>\n",
       "      <th>12</th>\n",
       "      <td>1992</td>\n",
       "      <td>9.867</td>\n",
       "      <td>11.0</td>\n",
       "      <td>11.0</td>\n",
       "      <td>11.0000</td>\n",
       "      <td>10.5284</td>\n",
       "    </tr>\n",
       "    <tr>\n",
       "      <th>13</th>\n",
       "      <td>1993</td>\n",
       "      <td>13.181</td>\n",
       "      <td>10.6</td>\n",
       "      <td>10.6</td>\n",
       "      <td>10.6000</td>\n",
       "      <td>10.2628</td>\n",
       "    </tr>\n",
       "    <tr>\n",
       "      <th>14</th>\n",
       "      <td>1994</td>\n",
       "      <td>16.312</td>\n",
       "      <td>10.3</td>\n",
       "      <td>10.3</td>\n",
       "      <td>10.3000</td>\n",
       "      <td>5.7497</td>\n",
       "    </tr>\n",
       "    <tr>\n",
       "      <th>15</th>\n",
       "      <td>1995</td>\n",
       "      <td>20.798</td>\n",
       "      <td>5.8</td>\n",
       "      <td>5.8</td>\n",
       "      <td>5.8000</td>\n",
       "      <td>5.8803</td>\n",
       "    </tr>\n",
       "    <tr>\n",
       "      <th>16</th>\n",
       "      <td>1996</td>\n",
       "      <td>24.692</td>\n",
       "      <td>5.9</td>\n",
       "      <td>5.9</td>\n",
       "      <td>5.9000</td>\n",
       "      <td>6.0146</td>\n",
       "    </tr>\n",
       "    <tr>\n",
       "      <th>17</th>\n",
       "      <td>1997</td>\n",
       "      <td>26.892</td>\n",
       "      <td>6.0</td>\n",
       "      <td>6.0</td>\n",
       "      <td>6.0000</td>\n",
       "      <td>6.9412</td>\n",
       "    </tr>\n",
       "    <tr>\n",
       "      <th>18</th>\n",
       "      <td>1998</td>\n",
       "      <td>27.234</td>\n",
       "      <td>6.9</td>\n",
       "      <td>6.9</td>\n",
       "      <td>6.9000</td>\n",
       "      <td>6.7268</td>\n",
       "    </tr>\n",
       "    <tr>\n",
       "      <th>19</th>\n",
       "      <td>1999</td>\n",
       "      <td>28.702</td>\n",
       "      <td>6.7</td>\n",
       "      <td>6.7</td>\n",
       "      <td>6.7000</td>\n",
       "      <td>6.4156</td>\n",
       "    </tr>\n",
       "    <tr>\n",
       "      <th>20</th>\n",
       "      <td>2000</td>\n",
       "      <td>31.176</td>\n",
       "      <td>6.4</td>\n",
       "      <td>6.4</td>\n",
       "      <td>6.4000</td>\n",
       "      <td>6.3306</td>\n",
       "    </tr>\n",
       "    <tr>\n",
       "      <th>21</th>\n",
       "      <td>2001</td>\n",
       "      <td>32.524</td>\n",
       "      <td>6.3</td>\n",
       "      <td>6.3</td>\n",
       "      <td>6.3000</td>\n",
       "      <td>6.0180</td>\n",
       "    </tr>\n",
       "    <tr>\n",
       "      <th>22</th>\n",
       "      <td>2002</td>\n",
       "      <td>35.097</td>\n",
       "      <td>6.0</td>\n",
       "      <td>6.0</td>\n",
       "      <td>6.0000</td>\n",
       "      <td>5.8012</td>\n",
       "    </tr>\n",
       "    <tr>\n",
       "      <th>23</th>\n",
       "      <td>2003</td>\n",
       "      <td>39.563</td>\n",
       "      <td>5.8</td>\n",
       "      <td>5.8</td>\n",
       "      <td>5.8000</td>\n",
       "      <td>5.5578</td>\n",
       "    </tr>\n",
       "    <tr>\n",
       "      <th>24</th>\n",
       "      <td>2004</td>\n",
       "      <td>49.520</td>\n",
       "      <td>5.6</td>\n",
       "      <td>5.6</td>\n",
       "      <td>5.6000</td>\n",
       "      <td>5.2884</td>\n",
       "    </tr>\n",
       "    <tr>\n",
       "      <th>25</th>\n",
       "      <td>2005</td>\n",
       "      <td>57.648</td>\n",
       "      <td>5.3</td>\n",
       "      <td>5.3</td>\n",
       "      <td>5.3000</td>\n",
       "      <td>4.7927</td>\n",
       "    </tr>\n",
       "    <tr>\n",
       "      <th>26</th>\n",
       "      <td>2006</td>\n",
       "      <td>66.393</td>\n",
       "      <td>4.8</td>\n",
       "      <td>4.8</td>\n",
       "      <td>4.8000</td>\n",
       "      <td>4.5872</td>\n",
       "    </tr>\n",
       "    <tr>\n",
       "      <th>27</th>\n",
       "      <td>2007</td>\n",
       "      <td>77.520</td>\n",
       "      <td>4.6</td>\n",
       "      <td>4.6</td>\n",
       "      <td>4.6000</td>\n",
       "      <td>4.6522</td>\n",
       "    </tr>\n",
       "    <tr>\n",
       "      <th>28</th>\n",
       "      <td>2008</td>\n",
       "      <td>98.269</td>\n",
       "      <td>4.7</td>\n",
       "      <td>4.7</td>\n",
       "      <td>4.7000</td>\n",
       "      <td>4.6337</td>\n",
       "    </tr>\n",
       "    <tr>\n",
       "      <th>29</th>\n",
       "      <td>2009</td>\n",
       "      <td>101.634</td>\n",
       "      <td>4.6</td>\n",
       "      <td>4.6</td>\n",
       "      <td>4.6000</td>\n",
       "      <td>4.3074</td>\n",
       "    </tr>\n",
       "    <tr>\n",
       "      <th>30</th>\n",
       "      <td>2010</td>\n",
       "      <td>112.771</td>\n",
       "      <td>4.3</td>\n",
       "      <td>4.3</td>\n",
       "      <td>4.3000</td>\n",
       "      <td>4.4781</td>\n",
       "    </tr>\n",
       "    <tr>\n",
       "      <th>31</th>\n",
       "      <td>2011</td>\n",
       "      <td>134.598</td>\n",
       "      <td>4.5</td>\n",
       "      <td>4.5</td>\n",
       "      <td>4.5000</td>\n",
       "      <td>2.6915</td>\n",
       "    </tr>\n",
       "    <tr>\n",
       "      <th>32</th>\n",
       "      <td>2012</td>\n",
       "      <td>155.483</td>\n",
       "      <td>2.7</td>\n",
       "      <td>2.7</td>\n",
       "      <td>2.7000</td>\n",
       "      <td>2.8121</td>\n",
       "    </tr>\n",
       "    <tr>\n",
       "      <th>33</th>\n",
       "      <td>2013</td>\n",
       "      <td>170.444</td>\n",
       "      <td>2.8</td>\n",
       "      <td>2.8</td>\n",
       "      <td>2.8000</td>\n",
       "      <td>2.1143</td>\n",
       "    </tr>\n",
       "    <tr>\n",
       "      <th>34</th>\n",
       "      <td>2014</td>\n",
       "      <td>185.759</td>\n",
       "      <td>2.1</td>\n",
       "      <td>2.1</td>\n",
       "      <td>2.1000</td>\n",
       "      <td>2.3353</td>\n",
       "    </tr>\n",
       "    <tr>\n",
       "      <th>35</th>\n",
       "      <td>2015</td>\n",
       "      <td>191.288</td>\n",
       "      <td>2.3</td>\n",
       "      <td>2.3</td>\n",
       "      <td>2.3000</td>\n",
       "      <td>2.3273</td>\n",
       "    </tr>\n",
       "    <tr>\n",
       "      <th>36</th>\n",
       "      <td>2016</td>\n",
       "      <td>201.326</td>\n",
       "      <td>2.3</td>\n",
       "      <td>2.3</td>\n",
       "      <td>2.3000</td>\n",
       "      <td>2.2126</td>\n",
       "    </tr>\n",
       "    <tr>\n",
       "      <th>37</th>\n",
       "      <td>2017</td>\n",
       "      <td>220.376</td>\n",
       "      <td>2.2</td>\n",
       "      <td>2.2</td>\n",
       "      <td>2.2000</td>\n",
       "      <td>2.2126</td>\n",
       "    </tr>\n",
       "    <tr>\n",
       "      <th>38</th>\n",
       "      <td>2018</td>\n",
       "      <td>241.272</td>\n",
       "      <td>2.2</td>\n",
       "      <td>2.2</td>\n",
       "      <td>2.2000</td>\n",
       "      <td>2.2000</td>\n",
       "    </tr>\n",
       "  </tbody>\n",
       "</table>\n",
       "</div>"
      ],
      "text/plain": [
       "    Year      GDP   UPR  UPR_replace_by_0  UPR_replace_by_mean  UPR_replace_by_Okun\n",
       "0   1980  27.847  NaN    0.0               5.7034               10.5837            \n",
       "1   1981  13.875  NaN    0.0               5.7034               10.3630            \n",
       "2   1982  18.405  NaN    0.0               5.7034               10.4313            \n",
       "3   1983  27.726  NaN    0.0               5.7034               10.5624            \n",
       "4   1984  48.177  NaN    0.0               5.7034               10.7741            \n",
       "5   1985  14.999  NaN    0.0               5.7034               10.4881            \n",
       "6   1986  33.873  NaN    0.0               5.7034               10.8816            \n",
       "7   1987  42.045  NaN    0.0               5.7034               10.9202            \n",
       "8   1988  23.234  NaN    0.0               5.7034               10.7184            \n",
       "9   1989  6.293   NaN    0.0               5.7034               10.4183            \n",
       "10  1990  6.472    12.3  12.3              12.3000              10.3826            \n",
       "11  1991  7.642    10.4  10.4              10.4000              10.9440            \n",
       "12  1992  9.867    11.0  11.0              11.0000              10.5284            \n",
       "13  1993  13.181   10.6  10.6              10.6000              10.2628            \n",
       "14  1994  16.312   10.3  10.3              10.3000              5.7497             \n",
       "15  1995  20.798   5.8   5.8               5.8000               5.8803             \n",
       "16  1996  24.692   5.9   5.9               5.9000               6.0146             \n",
       "17  1997  26.892   6.0   6.0               6.0000               6.9412             \n",
       "18  1998  27.234   6.9   6.9               6.9000               6.7268             \n",
       "19  1999  28.702   6.7   6.7               6.7000               6.4156             \n",
       "20  2000  31.176   6.4   6.4               6.4000               6.3306             \n",
       "21  2001  32.524   6.3   6.3               6.3000               6.0180             \n",
       "22  2002  35.097   6.0   6.0               6.0000               5.8012             \n",
       "23  2003  39.563   5.8   5.8               5.8000               5.5578             \n",
       "24  2004  49.520   5.6   5.6               5.6000               5.2884             \n",
       "25  2005  57.648   5.3   5.3               5.3000               4.7927             \n",
       "26  2006  66.393   4.8   4.8               4.8000               4.5872             \n",
       "27  2007  77.520   4.6   4.6               4.6000               4.6522             \n",
       "28  2008  98.269   4.7   4.7               4.7000               4.6337             \n",
       "29  2009  101.634  4.6   4.6               4.6000               4.3074             \n",
       "30  2010  112.771  4.3   4.3               4.3000               4.4781             \n",
       "31  2011  134.598  4.5   4.5               4.5000               2.6915             \n",
       "32  2012  155.483  2.7   2.7               2.7000               2.8121             \n",
       "33  2013  170.444  2.8   2.8               2.8000               2.1143             \n",
       "34  2014  185.759  2.1   2.1               2.1000               2.3353             \n",
       "35  2015  191.288  2.3   2.3               2.3000               2.3273             \n",
       "36  2016  201.326  2.3   2.3               2.3000               2.2126             \n",
       "37  2017  220.376  2.2   2.2               2.2000               2.2126             \n",
       "38  2018  241.272  2.2   2.2               2.2000               2.2000             "
      ]
     },
     "execution_count": 16,
     "metadata": {},
     "output_type": "execute_result"
    }
   ],
   "source": [
    "df_replace"
   ]
  },
  {
   "cell_type": "markdown",
   "metadata": {},
   "source": [
    "<h1>2. Data Exploding: </h1>\n",
    "Some statistical information of given dataset:\n",
    "- GDP: \n",
    "    + Full value from 1980 to 2018 (39 values)\n",
    "    + Mean of the GDP values: 67.7161 (Billions of U.S. dollars)\n",
    "    + Standard deviation of the GDP values: 68.1957 (Billions of U.S. dollars)\n",
    "    + Minimum of the GDP values: 6.293 (Billions of U.S. dollars)\n",
    "    + Maximum of the GDP values: 241.272 (Billions of U.S. dollars)\n",
    "    + Median of GDP values: 33.873 (Billions of U.S. dollars)"
   ]
  },
  {
   "cell_type": "code",
   "execution_count": 17,
   "metadata": {},
   "outputs": [
    {
     "name": "stderr",
     "output_type": "stream",
     "text": [
      "/home/system-gru/anaconda3/lib/python3.6/site-packages/scipy/stats/stats.py:1713: FutureWarning: Using a non-tuple sequence for multidimensional indexing is deprecated; use `arr[tuple(seq)]` instead of `arr[seq]`. In the future this will be interpreted as an array index, `arr[np.array(seq)]`, which will result either in an error or a different result.\n",
      "  return np.add.reduce(sorted[indexer] * weights, axis=axis) / sumval\n",
      "/home/system-gru/anaconda3/lib/python3.6/site-packages/matplotlib/axes/_axes.py:6521: MatplotlibDeprecationWarning: \n",
      "The 'normed' kwarg was deprecated in Matplotlib 2.1 and will be removed in 3.1. Use 'density' instead.\n",
      "  alternative=\"'density'\", removal=\"3.1\")\n"
     ]
    },
    {
     "data": {
      "text/plain": [
       "<matplotlib.axes._subplots.AxesSubplot at 0x7fdfef2ceba8>"
      ]
     },
     "execution_count": 17,
     "metadata": {},
     "output_type": "execute_result"
    },
    {
     "data": {
      "image/png": "[encoded data removed]",
      "text/plain": [
       "<Figure size 432x288 with 1 Axes>"
      ]
     },
     "metadata": {
      "needs_background": "light"
     },
     "output_type": "display_data"
    }
   ],
   "source": [
    "from scipy.stats import norm\n",
    "\n",
    "sns.distplot(df[\"GDP\"], fit=norm, kde=False)"
   ]
  },
  {
   "cell_type": "markdown",
   "metadata": {},
   "source": [
    "- Unemployment rate (UPR): \n",
    "    + 10 missing values from 1980 to 1989\n",
    "    + Have 29 values from 1990 to 2018\n",
    "    + Mean of the UPR values: 5.7034 (%)\n",
    "    + Standard deviation of the UPR values: 2.8550 (%)\n",
    "    + Minimum of the UPR values: 2.1 (%)\n",
    "    + Maximum of the UPR values: 12.3 (%)\n",
    "    + Median of UPR values: 5.6 (%) in 2004"
   ]
  },
  {
   "cell_type": "code",
   "execution_count": 18,
   "metadata": {},
   "outputs": [
    {
     "name": "stderr",
     "output_type": "stream",
     "text": [
      "/home/system-gru/anaconda3/lib/python3.6/site-packages/scipy/stats/stats.py:1713: FutureWarning: Using a non-tuple sequence for multidimensional indexing is deprecated; use `arr[tuple(seq)]` instead of `arr[seq]`. In the future this will be interpreted as an array index, `arr[np.array(seq)]`, which will result either in an error or a different result.\n",
      "  return np.add.reduce(sorted[indexer] * weights, axis=axis) / sumval\n",
      "/home/system-gru/anaconda3/lib/python3.6/site-packages/matplotlib/axes/_axes.py:6521: MatplotlibDeprecationWarning: \n",
      "The 'normed' kwarg was deprecated in Matplotlib 2.1 and will be removed in 3.1. Use 'density' instead.\n",
      "  alternative=\"'density'\", removal=\"3.1\")\n"
     ]
    },
    {
     "data": {
      "text/plain": [
       "<matplotlib.axes._subplots.AxesSubplot at 0x7fdfef1b52b0>"
      ]
     },
     "execution_count": 18,
     "metadata": {},
     "output_type": "execute_result"
    },
    {
     "data": {
      "image/png": "[encoded data removed]",
      "text/plain": [
       "<Figure size 432x288 with 1 Axes>"
      ]
     },
     "metadata": {
      "needs_background": "light"
     },
     "output_type": "display_data"
    }
   ],
   "source": [
    "from scipy.stats import norm\n",
    "sns.distplot(df[\"UPR\"][missing_point + 1:], fit=norm, kde=False)"
   ]
  },
  {
   "cell_type": "markdown",
   "metadata": {},
   "source": [
    "Correlation of features:"
   ]
  },
  {
   "cell_type": "code",
   "execution_count": 19,
   "metadata": {},
   "outputs": [
    {
     "data": {
      "image/png": "[encoded data removed]",
      "text/plain": [
       "<Figure size 720x720 with 2 Axes>"
      ]
     },
     "metadata": {
      "needs_background": "light"
     },
     "output_type": "display_data"
    }
   ],
   "source": [
    "halfHeatMap(df)"
   ]
  },
  {
   "cell_type": "markdown",
   "metadata": {},
   "source": [
    "Some analysis information of given dataset:\n",
    "- GDP: Ranges from 6.293 (1989) to 241.272 (2018), with most values at the low end. The median is 33.8730.\n",
    "- UPR: Ranges from 2.1 (2014) to 12.3 (1990).\n",
    "- For every year, GDP decreases by about 5.6164 (Billions of U.S. dollars).\n",
    "- For every year, Unemployment rate (UPR) decreases by about 0.3607."
   ]
  },
  {
   "cell_type": "markdown",
   "metadata": {},
   "source": [
    "<h3> a. Modeling GDP: </h3>\n",
    "\n",
    "We used \"Economic growth\" model to model and forecast information about GDP by years: \n",
    "\n",
    "<img src=\"files/GDP_annual_rate.gif\">\n",
    "\n",
    "The result of this formula is \"GDP_annual_diff_rate\" feature in the previous section. \"GDP_diff\" is delta of GDP by years. This features will be used in the next pharse to estimate parameters for \"Okun's law\"."
   ]
  },
  {
   "cell_type": "code",
   "execution_count": 20,
   "metadata": {},
   "outputs": [
    {
     "name": "stderr",
     "output_type": "stream",
     "text": [
      "/home/system-gru/anaconda3/lib/python3.6/site-packages/scipy/stats/stats.py:1713: FutureWarning: Using a non-tuple sequence for multidimensional indexing is deprecated; use `arr[tuple(seq)]` instead of `arr[seq]`. In the future this will be interpreted as an array index, `arr[np.array(seq)]`, which will result either in an error or a different result.\n",
      "  return np.add.reduce(sorted[indexer] * weights, axis=axis) / sumval\n"
     ]
    },
    {
     "data": {
      "text/plain": [
       "<matplotlib.axes._subplots.AxesSubplot at 0x7fdfe2c787f0>"
      ]
     },
     "execution_count": 20,
     "metadata": {},
     "output_type": "execute_result"
    },
    {
     "data": {
      "image/png": "[encoded data removed]",
      "text/plain": [
       "<Figure size 432x288 with 1 Axes>"
      ]
     },
     "metadata": {
      "needs_background": "light"
     },
     "output_type": "display_data"
    }
   ],
   "source": [
    "sns.regplot(x=\"Year\", y=\"GDP_annual_diff_rate\", data=df_exploding)"
   ]
  },
  {
   "cell_type": "code",
   "execution_count": 21,
   "metadata": {},
   "outputs": [
    {
     "data": {
      "text/plain": [
       "(-0.003581027385350957, 0.0018870451675325633)"
      ]
     },
     "execution_count": 21,
     "metadata": {},
     "output_type": "execute_result"
    }
   ],
   "source": [
    "# Lấy phần data có thể quan sát được\n",
    "x = df_exploding[\"Year\"][10:]\n",
    "y = df_exploding[\"GDP_annual_diff_rate\"][10:]\n",
    "slope_annual, intercept, _, _, std_err_annual = stats.linregress(x,y)\n",
    "\n",
    "(slope_annual, std_err_annual)"
   ]
  },
  {
   "cell_type": "markdown",
   "metadata": {},
   "source": [
    "We also used \"average growth in period\" formula: \n",
    "\n",
    "<img src=\"files/GDP_period_rate.gif\">\n",
    "\n",
    "This formula will be used to calculate \"GDP_period_diff_rate\" feature."
   ]
  },
  {
   "cell_type": "code",
   "execution_count": 22,
   "metadata": {},
   "outputs": [],
   "source": [
    "gdp0 = df_exploding.at[0,'GDP']\n",
    "df_exploding[\"GDP_period_diff_rate\"] = (df_exploding[\"GDP\"] / gdp0) ** (1 / df.index) -1 "
   ]
  },
  {
   "cell_type": "code",
   "execution_count": 23,
   "metadata": {},
   "outputs": [
    {
     "name": "stderr",
     "output_type": "stream",
     "text": [
      "/home/system-gru/anaconda3/lib/python3.6/site-packages/scipy/stats/stats.py:1713: FutureWarning: Using a non-tuple sequence for multidimensional indexing is deprecated; use `arr[tuple(seq)]` instead of `arr[seq]`. In the future this will be interpreted as an array index, `arr[np.array(seq)]`, which will result either in an error or a different result.\n",
      "  return np.add.reduce(sorted[indexer] * weights, axis=axis) / sumval\n"
     ]
    },
    {
     "data": {
      "text/plain": [
       "<matplotlib.axes._subplots.AxesSubplot at 0x7fdfe2ce79e8>"
      ]
     },
     "execution_count": 23,
     "metadata": {},
     "output_type": "execute_result"
    },
    {
     "data": {
      "image/png": "[encoded data removed]",
      "text/plain": [
       "<Figure size 432x288 with 1 Axes>"
      ]
     },
     "metadata": {
      "needs_background": "light"
     },
     "output_type": "display_data"
    }
   ],
   "source": [
    "sns.regplot(x=\"Year\", y=\"GDP_period_diff_rate\", data=df_exploding)"
   ]
  },
  {
   "cell_type": "markdown",
   "metadata": {},
   "source": [
    "<h3>b. Modeling Unemployment rate:</h3> \n",
    "\n",
    "The unemployment rate 'll be model by linear regression by years."
   ]
  },
  {
   "cell_type": "code",
   "execution_count": 24,
   "metadata": {},
   "outputs": [
    {
     "name": "stderr",
     "output_type": "stream",
     "text": [
      "/home/system-gru/anaconda3/lib/python3.6/site-packages/scipy/stats/stats.py:1713: FutureWarning: Using a non-tuple sequence for multidimensional indexing is deprecated; use `arr[tuple(seq)]` instead of `arr[seq]`. In the future this will be interpreted as an array index, `arr[np.array(seq)]`, which will result either in an error or a different result.\n",
      "  return np.add.reduce(sorted[indexer] * weights, axis=axis) / sumval\n"
     ]
    },
    {
     "data": {
      "text/plain": [
       "<matplotlib.axes._subplots.AxesSubplot at 0x7fdfe2b5dbe0>"
      ]
     },
     "execution_count": 24,
     "metadata": {},
     "output_type": "execute_result"
    },
    {
     "data": {
      "image/png": "[encoded data removed]",
      "text/plain": [
       "<Figure size 432x288 with 1 Axes>"
      ]
     },
     "metadata": {
      "needs_background": "light"
     },
     "output_type": "display_data"
    }
   ],
   "source": [
    "sns.regplot(x=\"Year\", y=\"UPR\", data=df_exploding)"
   ]
  },
  {
   "cell_type": "code",
   "execution_count": 25,
   "metadata": {},
   "outputs": [],
   "source": [
    "# Lấy phần data có thể quan sát được\n",
    "x = df_exploding[\"Year\"][10:]\n",
    "y = df_exploding[\"UPR\"][10:]\n",
    "slope_upr, intercept, _, _, std_err_upr = stats.linregress(x,y)"
   ]
  },
  {
   "cell_type": "code",
   "execution_count": 26,
   "metadata": {},
   "outputs": [
    {
     "data": {
      "text/plain": [
       "(-0.31019704433497536, 627.3383251231527, 0.024499580683192322)"
      ]
     },
     "execution_count": 26,
     "metadata": {},
     "output_type": "execute_result"
    }
   ],
   "source": [
    "slope_upr, intercept, std_err_upr"
   ]
  },
  {
   "cell_type": "markdown",
   "metadata": {},
   "source": [
    "So, for every year, the unemployment rate decreases by about 0.31."
   ]
  },
  {
   "cell_type": "markdown",
   "metadata": {},
   "source": [
    "<h3>c. Modeling relationship of GDP and Unemployment rate: </h3>\n",
    "\n",
    "In economics, Okun's law (named after Arthur Melvin Okun, who proposed the relationship in 1962) is an empirically observed relationship between unemployment and losses in a country's production. The \"gap version\" states that for every 1% increase in the unemployment rate, a country's GDP will be roughly an additional 2% lower than its potential GDP. The \"difference version\" describes the relationship between quarterly changes in unemployment and quarterly changes in real GDP. The stability and usefulness of the law has been disputed. Not to be confused with Lucas Wedge.\n",
    "\n",
    "This 's the US's version of Okun's law:\n",
    "<img src=\"files/Okun's_Law_2016.svg.png\">\n",
    "\n",
    "In our proposal, we use Okun's laws to describes the relationship between \"years\" changes in unemployment and \"years\" changes in real GDP with our data set.\n",
    "\n",
    "We used linear regression to model \"GDP_annual_diff_rate\" and the unemployment rate."
   ]
  },
  {
   "cell_type": "code",
   "execution_count": 27,
   "metadata": {},
   "outputs": [
    {
     "data": {
      "text/plain": [
       "<seaborn.axisgrid.FacetGrid at 0x7fdfe2c576d8>"
      ]
     },
     "execution_count": 27,
     "metadata": {},
     "output_type": "execute_result"
    },
    {
     "data": {
      "image/png": "[encoded data removed]",
      "text/plain": [
       "<Figure size 360x360 with 1 Axes>"
      ]
     },
     "metadata": {
      "needs_background": "light"
     },
     "output_type": "display_data"
    }
   ],
   "source": [
    "sns.lmplot(x=\"GDP\", y=\"UPR\", data=df, fit_reg=False)"
   ]
  },
  {
   "cell_type": "markdown",
   "metadata": {},
   "source": [
    "When the unemployment rate decreases, the GDP increases"
   ]
  },
  {
   "cell_type": "code",
   "execution_count": 28,
   "metadata": {},
   "outputs": [],
   "source": [
    "# Ta tính thêm tham số UPR_diff\n",
    "df_exploding[\"UPR_diff\"] = df_exploding[\"UPR\"].diff()\n",
    "# UPR diff được normal theo rate để có thể quan sát chung với GDP_annual_diff_rate\n",
    "df_exploding[\"UPR_diff\"] /= 100"
   ]
  },
  {
   "cell_type": "code",
   "execution_count": 29,
   "metadata": {},
   "outputs": [
    {
     "data": {
      "text/html": [
       "<div>\n",
       "<style scoped>\n",
       "    .dataframe tbody tr th:only-of-type {\n",
       "        vertical-align: middle;\n",
       "    }\n",
       "\n",
       "    .dataframe tbody tr th {\n",
       "        vertical-align: top;\n",
       "    }\n",
       "\n",
       "    .dataframe thead th {\n",
       "        text-align: right;\n",
       "    }\n",
       "</style>\n",
       "<table border=\"1\" class=\"dataframe\">\n",
       "  <thead>\n",
       "    <tr style=\"text-align: right;\">\n",
       "      <th></th>\n",
       "      <th>Year</th>\n",
       "      <th>GDP</th>\n",
       "      <th>UPR</th>\n",
       "      <th>GDP_diff</th>\n",
       "      <th>GDP_annual_diff_rate</th>\n",
       "      <th>GDP_period_diff_rate</th>\n",
       "      <th>UPR_diff</th>\n",
       "    </tr>\n",
       "  </thead>\n",
       "  <tbody>\n",
       "    <tr>\n",
       "      <th>0</th>\n",
       "      <td>1980</td>\n",
       "      <td>27.847</td>\n",
       "      <td>NaN</td>\n",
       "      <td>NaN</td>\n",
       "      <td>NaN</td>\n",
       "      <td>0.0000</td>\n",
       "      <td>NaN</td>\n",
       "    </tr>\n",
       "    <tr>\n",
       "      <th>1</th>\n",
       "      <td>1981</td>\n",
       "      <td>13.875</td>\n",
       "      <td>NaN</td>\n",
       "      <td>-13.972</td>\n",
       "      <td>-0.5017</td>\n",
       "      <td>-0.5017</td>\n",
       "      <td>NaN</td>\n",
       "    </tr>\n",
       "    <tr>\n",
       "      <th>2</th>\n",
       "      <td>1982</td>\n",
       "      <td>18.405</td>\n",
       "      <td>NaN</td>\n",
       "      <td>4.530</td>\n",
       "      <td>0.3265</td>\n",
       "      <td>-0.1870</td>\n",
       "      <td>NaN</td>\n",
       "    </tr>\n",
       "    <tr>\n",
       "      <th>3</th>\n",
       "      <td>1983</td>\n",
       "      <td>27.726</td>\n",
       "      <td>NaN</td>\n",
       "      <td>9.321</td>\n",
       "      <td>0.5064</td>\n",
       "      <td>-0.0015</td>\n",
       "      <td>NaN</td>\n",
       "    </tr>\n",
       "    <tr>\n",
       "      <th>4</th>\n",
       "      <td>1984</td>\n",
       "      <td>48.177</td>\n",
       "      <td>NaN</td>\n",
       "      <td>20.451</td>\n",
       "      <td>0.7376</td>\n",
       "      <td>0.1469</td>\n",
       "      <td>NaN</td>\n",
       "    </tr>\n",
       "    <tr>\n",
       "      <th>5</th>\n",
       "      <td>1985</td>\n",
       "      <td>14.999</td>\n",
       "      <td>NaN</td>\n",
       "      <td>-33.178</td>\n",
       "      <td>-0.6887</td>\n",
       "      <td>-0.1164</td>\n",
       "      <td>NaN</td>\n",
       "    </tr>\n",
       "    <tr>\n",
       "      <th>6</th>\n",
       "      <td>1986</td>\n",
       "      <td>33.873</td>\n",
       "      <td>NaN</td>\n",
       "      <td>18.874</td>\n",
       "      <td>1.2584</td>\n",
       "      <td>0.0332</td>\n",
       "      <td>NaN</td>\n",
       "    </tr>\n",
       "    <tr>\n",
       "      <th>7</th>\n",
       "      <td>1987</td>\n",
       "      <td>42.045</td>\n",
       "      <td>NaN</td>\n",
       "      <td>8.172</td>\n",
       "      <td>0.2413</td>\n",
       "      <td>0.0606</td>\n",
       "      <td>NaN</td>\n",
       "    </tr>\n",
       "    <tr>\n",
       "      <th>8</th>\n",
       "      <td>1988</td>\n",
       "      <td>23.234</td>\n",
       "      <td>NaN</td>\n",
       "      <td>-18.811</td>\n",
       "      <td>-0.4474</td>\n",
       "      <td>-0.0224</td>\n",
       "      <td>NaN</td>\n",
       "    </tr>\n",
       "    <tr>\n",
       "      <th>9</th>\n",
       "      <td>1989</td>\n",
       "      <td>6.293</td>\n",
       "      <td>NaN</td>\n",
       "      <td>-16.941</td>\n",
       "      <td>-0.7291</td>\n",
       "      <td>-0.1523</td>\n",
       "      <td>NaN</td>\n",
       "    </tr>\n",
       "    <tr>\n",
       "      <th>10</th>\n",
       "      <td>1990</td>\n",
       "      <td>6.472</td>\n",
       "      <td>12.3</td>\n",
       "      <td>0.179</td>\n",
       "      <td>0.0284</td>\n",
       "      <td>-0.1358</td>\n",
       "      <td>NaN</td>\n",
       "    </tr>\n",
       "    <tr>\n",
       "      <th>11</th>\n",
       "      <td>1991</td>\n",
       "      <td>7.642</td>\n",
       "      <td>10.4</td>\n",
       "      <td>1.170</td>\n",
       "      <td>0.1808</td>\n",
       "      <td>-0.1109</td>\n",
       "      <td>-0.019</td>\n",
       "    </tr>\n",
       "    <tr>\n",
       "      <th>12</th>\n",
       "      <td>1992</td>\n",
       "      <td>9.867</td>\n",
       "      <td>11.0</td>\n",
       "      <td>2.225</td>\n",
       "      <td>0.2912</td>\n",
       "      <td>-0.0828</td>\n",
       "      <td>0.006</td>\n",
       "    </tr>\n",
       "    <tr>\n",
       "      <th>13</th>\n",
       "      <td>1993</td>\n",
       "      <td>13.181</td>\n",
       "      <td>10.6</td>\n",
       "      <td>3.314</td>\n",
       "      <td>0.3359</td>\n",
       "      <td>-0.0559</td>\n",
       "      <td>-0.004</td>\n",
       "    </tr>\n",
       "    <tr>\n",
       "      <th>14</th>\n",
       "      <td>1994</td>\n",
       "      <td>16.312</td>\n",
       "      <td>10.3</td>\n",
       "      <td>3.131</td>\n",
       "      <td>0.2375</td>\n",
       "      <td>-0.0375</td>\n",
       "      <td>-0.003</td>\n",
       "    </tr>\n",
       "    <tr>\n",
       "      <th>15</th>\n",
       "      <td>1995</td>\n",
       "      <td>20.798</td>\n",
       "      <td>5.8</td>\n",
       "      <td>4.486</td>\n",
       "      <td>0.2750</td>\n",
       "      <td>-0.0193</td>\n",
       "      <td>-0.045</td>\n",
       "    </tr>\n",
       "    <tr>\n",
       "      <th>16</th>\n",
       "      <td>1996</td>\n",
       "      <td>24.692</td>\n",
       "      <td>5.9</td>\n",
       "      <td>3.894</td>\n",
       "      <td>0.1872</td>\n",
       "      <td>-0.0075</td>\n",
       "      <td>0.001</td>\n",
       "    </tr>\n",
       "    <tr>\n",
       "      <th>17</th>\n",
       "      <td>1997</td>\n",
       "      <td>26.892</td>\n",
       "      <td>6.0</td>\n",
       "      <td>2.200</td>\n",
       "      <td>0.0891</td>\n",
       "      <td>-0.0021</td>\n",
       "      <td>0.001</td>\n",
       "    </tr>\n",
       "    <tr>\n",
       "      <th>18</th>\n",
       "      <td>1998</td>\n",
       "      <td>27.234</td>\n",
       "      <td>6.9</td>\n",
       "      <td>0.342</td>\n",
       "      <td>0.0127</td>\n",
       "      <td>-0.0012</td>\n",
       "      <td>0.009</td>\n",
       "    </tr>\n",
       "    <tr>\n",
       "      <th>19</th>\n",
       "      <td>1999</td>\n",
       "      <td>28.702</td>\n",
       "      <td>6.7</td>\n",
       "      <td>1.468</td>\n",
       "      <td>0.0539</td>\n",
       "      <td>0.0016</td>\n",
       "      <td>-0.002</td>\n",
       "    </tr>\n",
       "    <tr>\n",
       "      <th>20</th>\n",
       "      <td>2000</td>\n",
       "      <td>31.176</td>\n",
       "      <td>6.4</td>\n",
       "      <td>2.474</td>\n",
       "      <td>0.0862</td>\n",
       "      <td>0.0057</td>\n",
       "      <td>-0.003</td>\n",
       "    </tr>\n",
       "    <tr>\n",
       "      <th>21</th>\n",
       "      <td>2001</td>\n",
       "      <td>32.524</td>\n",
       "      <td>6.3</td>\n",
       "      <td>1.348</td>\n",
       "      <td>0.0432</td>\n",
       "      <td>0.0074</td>\n",
       "      <td>-0.001</td>\n",
       "    </tr>\n",
       "    <tr>\n",
       "      <th>22</th>\n",
       "      <td>2002</td>\n",
       "      <td>35.097</td>\n",
       "      <td>6.0</td>\n",
       "      <td>2.573</td>\n",
       "      <td>0.0791</td>\n",
       "      <td>0.0106</td>\n",
       "      <td>-0.003</td>\n",
       "    </tr>\n",
       "    <tr>\n",
       "      <th>23</th>\n",
       "      <td>2003</td>\n",
       "      <td>39.563</td>\n",
       "      <td>5.8</td>\n",
       "      <td>4.466</td>\n",
       "      <td>0.1272</td>\n",
       "      <td>0.0154</td>\n",
       "      <td>-0.002</td>\n",
       "    </tr>\n",
       "    <tr>\n",
       "      <th>24</th>\n",
       "      <td>2004</td>\n",
       "      <td>49.520</td>\n",
       "      <td>5.6</td>\n",
       "      <td>9.957</td>\n",
       "      <td>0.2517</td>\n",
       "      <td>0.0243</td>\n",
       "      <td>-0.002</td>\n",
       "    </tr>\n",
       "    <tr>\n",
       "      <th>25</th>\n",
       "      <td>2005</td>\n",
       "      <td>57.648</td>\n",
       "      <td>5.3</td>\n",
       "      <td>8.128</td>\n",
       "      <td>0.1641</td>\n",
       "      <td>0.0295</td>\n",
       "      <td>-0.003</td>\n",
       "    </tr>\n",
       "    <tr>\n",
       "      <th>26</th>\n",
       "      <td>2006</td>\n",
       "      <td>66.393</td>\n",
       "      <td>4.8</td>\n",
       "      <td>8.745</td>\n",
       "      <td>0.1517</td>\n",
       "      <td>0.0340</td>\n",
       "      <td>-0.005</td>\n",
       "    </tr>\n",
       "    <tr>\n",
       "      <th>27</th>\n",
       "      <td>2007</td>\n",
       "      <td>77.520</td>\n",
       "      <td>4.6</td>\n",
       "      <td>11.127</td>\n",
       "      <td>0.1676</td>\n",
       "      <td>0.0386</td>\n",
       "      <td>-0.002</td>\n",
       "    </tr>\n",
       "    <tr>\n",
       "      <th>28</th>\n",
       "      <td>2008</td>\n",
       "      <td>98.269</td>\n",
       "      <td>4.7</td>\n",
       "      <td>20.749</td>\n",
       "      <td>0.2677</td>\n",
       "      <td>0.0461</td>\n",
       "      <td>0.001</td>\n",
       "    </tr>\n",
       "    <tr>\n",
       "      <th>29</th>\n",
       "      <td>2009</td>\n",
       "      <td>101.634</td>\n",
       "      <td>4.6</td>\n",
       "      <td>3.365</td>\n",
       "      <td>0.0342</td>\n",
       "      <td>0.0457</td>\n",
       "      <td>-0.001</td>\n",
       "    </tr>\n",
       "    <tr>\n",
       "      <th>30</th>\n",
       "      <td>2010</td>\n",
       "      <td>112.771</td>\n",
       "      <td>4.3</td>\n",
       "      <td>11.137</td>\n",
       "      <td>0.1096</td>\n",
       "      <td>0.0477</td>\n",
       "      <td>-0.003</td>\n",
       "    </tr>\n",
       "    <tr>\n",
       "      <th>31</th>\n",
       "      <td>2011</td>\n",
       "      <td>134.598</td>\n",
       "      <td>4.5</td>\n",
       "      <td>21.827</td>\n",
       "      <td>0.1936</td>\n",
       "      <td>0.0521</td>\n",
       "      <td>0.002</td>\n",
       "    </tr>\n",
       "    <tr>\n",
       "      <th>32</th>\n",
       "      <td>2012</td>\n",
       "      <td>155.483</td>\n",
       "      <td>2.7</td>\n",
       "      <td>20.885</td>\n",
       "      <td>0.1552</td>\n",
       "      <td>0.0552</td>\n",
       "      <td>-0.018</td>\n",
       "    </tr>\n",
       "    <tr>\n",
       "      <th>33</th>\n",
       "      <td>2013</td>\n",
       "      <td>170.444</td>\n",
       "      <td>2.8</td>\n",
       "      <td>14.961</td>\n",
       "      <td>0.0962</td>\n",
       "      <td>0.0564</td>\n",
       "      <td>0.001</td>\n",
       "    </tr>\n",
       "    <tr>\n",
       "      <th>34</th>\n",
       "      <td>2014</td>\n",
       "      <td>185.759</td>\n",
       "      <td>2.1</td>\n",
       "      <td>15.315</td>\n",
       "      <td>0.0899</td>\n",
       "      <td>0.0574</td>\n",
       "      <td>-0.007</td>\n",
       "    </tr>\n",
       "    <tr>\n",
       "      <th>35</th>\n",
       "      <td>2015</td>\n",
       "      <td>191.288</td>\n",
       "      <td>2.3</td>\n",
       "      <td>5.529</td>\n",
       "      <td>0.0298</td>\n",
       "      <td>0.0566</td>\n",
       "      <td>0.002</td>\n",
       "    </tr>\n",
       "    <tr>\n",
       "      <th>36</th>\n",
       "      <td>2016</td>\n",
       "      <td>201.326</td>\n",
       "      <td>2.3</td>\n",
       "      <td>10.038</td>\n",
       "      <td>0.0525</td>\n",
       "      <td>0.0565</td>\n",
       "      <td>0.000</td>\n",
       "    </tr>\n",
       "    <tr>\n",
       "      <th>37</th>\n",
       "      <td>2017</td>\n",
       "      <td>220.376</td>\n",
       "      <td>2.2</td>\n",
       "      <td>19.050</td>\n",
       "      <td>0.0946</td>\n",
       "      <td>0.0575</td>\n",
       "      <td>-0.001</td>\n",
       "    </tr>\n",
       "    <tr>\n",
       "      <th>38</th>\n",
       "      <td>2018</td>\n",
       "      <td>241.272</td>\n",
       "      <td>2.2</td>\n",
       "      <td>20.896</td>\n",
       "      <td>0.0948</td>\n",
       "      <td>0.0585</td>\n",
       "      <td>0.000</td>\n",
       "    </tr>\n",
       "  </tbody>\n",
       "</table>\n",
       "</div>"
      ],
      "text/plain": [
       "    Year      GDP   UPR  GDP_diff  GDP_annual_diff_rate  GDP_period_diff_rate  UPR_diff\n",
       "0   1980  27.847  NaN   NaN       NaN                    0.0000               NaN      \n",
       "1   1981  13.875  NaN   -13.972   -0.5017               -0.5017               NaN      \n",
       "2   1982  18.405  NaN    4.530     0.3265               -0.1870               NaN      \n",
       "3   1983  27.726  NaN    9.321     0.5064               -0.0015               NaN      \n",
       "4   1984  48.177  NaN    20.451    0.7376                0.1469               NaN      \n",
       "5   1985  14.999  NaN   -33.178   -0.6887               -0.1164               NaN      \n",
       "6   1986  33.873  NaN    18.874    1.2584                0.0332               NaN      \n",
       "7   1987  42.045  NaN    8.172     0.2413                0.0606               NaN      \n",
       "8   1988  23.234  NaN   -18.811   -0.4474               -0.0224               NaN      \n",
       "9   1989  6.293   NaN   -16.941   -0.7291               -0.1523               NaN      \n",
       "10  1990  6.472    12.3  0.179     0.0284               -0.1358               NaN      \n",
       "11  1991  7.642    10.4  1.170     0.1808               -0.1109               -0.019   \n",
       "12  1992  9.867    11.0  2.225     0.2912               -0.0828                0.006   \n",
       "13  1993  13.181   10.6  3.314     0.3359               -0.0559               -0.004   \n",
       "14  1994  16.312   10.3  3.131     0.2375               -0.0375               -0.003   \n",
       "15  1995  20.798   5.8   4.486     0.2750               -0.0193               -0.045   \n",
       "16  1996  24.692   5.9   3.894     0.1872               -0.0075                0.001   \n",
       "17  1997  26.892   6.0   2.200     0.0891               -0.0021                0.001   \n",
       "18  1998  27.234   6.9   0.342     0.0127               -0.0012                0.009   \n",
       "19  1999  28.702   6.7   1.468     0.0539                0.0016               -0.002   \n",
       "20  2000  31.176   6.4   2.474     0.0862                0.0057               -0.003   \n",
       "21  2001  32.524   6.3   1.348     0.0432                0.0074               -0.001   \n",
       "22  2002  35.097   6.0   2.573     0.0791                0.0106               -0.003   \n",
       "23  2003  39.563   5.8   4.466     0.1272                0.0154               -0.002   \n",
       "24  2004  49.520   5.6   9.957     0.2517                0.0243               -0.002   \n",
       "25  2005  57.648   5.3   8.128     0.1641                0.0295               -0.003   \n",
       "26  2006  66.393   4.8   8.745     0.1517                0.0340               -0.005   \n",
       "27  2007  77.520   4.6   11.127    0.1676                0.0386               -0.002   \n",
       "28  2008  98.269   4.7   20.749    0.2677                0.0461                0.001   \n",
       "29  2009  101.634  4.6   3.365     0.0342                0.0457               -0.001   \n",
       "30  2010  112.771  4.3   11.137    0.1096                0.0477               -0.003   \n",
       "31  2011  134.598  4.5   21.827    0.1936                0.0521                0.002   \n",
       "32  2012  155.483  2.7   20.885    0.1552                0.0552               -0.018   \n",
       "33  2013  170.444  2.8   14.961    0.0962                0.0564                0.001   \n",
       "34  2014  185.759  2.1   15.315    0.0899                0.0574               -0.007   \n",
       "35  2015  191.288  2.3   5.529     0.0298                0.0566                0.002   \n",
       "36  2016  201.326  2.3   10.038    0.0525                0.0565                0.000   \n",
       "37  2017  220.376  2.2   19.050    0.0946                0.0575               -0.001   \n",
       "38  2018  241.272  2.2   20.896    0.0948                0.0585                0.000   "
      ]
     },
     "execution_count": 29,
     "metadata": {},
     "output_type": "execute_result"
    }
   ],
   "source": [
    "df_exploding"
   ]
  },
  {
   "cell_type": "code",
   "execution_count": 30,
   "metadata": {},
   "outputs": [
    {
     "name": "stderr",
     "output_type": "stream",
     "text": [
      "/home/system-gru/anaconda3/lib/python3.6/site-packages/scipy/stats/stats.py:1713: FutureWarning: Using a non-tuple sequence for multidimensional indexing is deprecated; use `arr[tuple(seq)]` instead of `arr[seq]`. In the future this will be interpreted as an array index, `arr[np.array(seq)]`, which will result either in an error or a different result.\n",
      "  return np.add.reduce(sorted[indexer] * weights, axis=axis) / sumval\n"
     ]
    },
    {
     "data": {
      "text/plain": [
       "<seaborn.axisgrid.FacetGrid at 0x7fdfe2cb65f8>"
      ]
     },
     "execution_count": 30,
     "metadata": {},
     "output_type": "execute_result"
    },
    {
     "data": {
      "image/png": "[encoded data removed]",
      "text/plain": [
       "<Figure size 360x360 with 1 Axes>"
      ]
     },
     "metadata": {
      "needs_background": "light"
     },
     "output_type": "display_data"
    }
   ],
   "source": [
    "sns.lmplot(x=\"GDP_annual_diff_rate\", y=\"UPR_diff\", data=df_exploding)"
   ]
  },
  {
   "cell_type": "code",
   "execution_count": 31,
   "metadata": {},
   "outputs": [],
   "source": [
    "slope, intercept, _, _, std_err = stats.linregress(\n",
    "    df_exploding[\"UPR_diff\"][11:], df_exploding[\"GDP_annual_diff_rate\"][11:]\n",
    ")"
   ]
  },
  {
   "cell_type": "code",
   "execution_count": 32,
   "metadata": {},
   "outputs": [
    {
     "data": {
      "text/plain": [
       "(0.1308116527691924, -2.865579108434284, 1.655694837516535)"
      ]
     },
     "execution_count": 32,
     "metadata": {},
     "output_type": "execute_result"
    }
   ],
   "source": [
    "k = intercept\n",
    "c = slope\n",
    "\n",
    "(k, c, std_err)"
   ]
  },
  {
   "cell_type": "markdown",
   "metadata": {},
   "source": [
    "So for every increase of 1% of GDP growth rates, the unemployment rate decreases by about 2.865 (by year)"
   ]
  },
  {
   "cell_type": "markdown",
   "metadata": {},
   "source": [
    "<h1>3. Feature Extraction: </h1>\n",
    "\n",
    " "
   ]
  },
  {
   "cell_type": "code",
   "execution_count": 33,
   "metadata": {},
   "outputs": [
    {
     "data": {
      "image/png": "[encoded data removed]",
      "text/plain": [
       "<Figure size 720x720 with 2 Axes>"
      ]
     },
     "metadata": {
      "needs_background": "light"
     },
     "output_type": "display_data"
    }
   ],
   "source": [
    "halfHeatMap(df_exploding)"
   ]
  },
  {
   "cell_type": "markdown",
   "metadata": {},
   "source": [
    "<h3>a) GDP: </h3>"
   ]
  },
  {
   "cell_type": "markdown",
   "metadata": {},
   "source": [
    "Gross domestic product (GDP) is a monetary measure of the market value of all the final goods and services produced in a specific time period, often annually. In data set, GDP is millions of USD. We normalize GDP to the different of GDP by year (the growth rate for every year), so we had \"GDP_annual_diff_rate\" and it was used to predict Unemployment rate in \"Missing Data Imputation\" task. We also calculate \"GDP_period_diff_rate\" to model GDP growth rate by year. The correlation between GDP and Year and Unemployment rate  is high (0.84 and -0.83)"
   ]
  },
  {
   "cell_type": "markdown",
   "metadata": {},
   "source": [
    "<h3>b) GDP_annual_diff_rate và GDP_period_diff_rate:</h3>"
   ]
  },
  {
   "cell_type": "code",
   "execution_count": 34,
   "metadata": {},
   "outputs": [
    {
     "name": "stderr",
     "output_type": "stream",
     "text": [
      "/home/system-gru/anaconda3/lib/python3.6/site-packages/scipy/stats/stats.py:1713: FutureWarning: Using a non-tuple sequence for multidimensional indexing is deprecated; use `arr[tuple(seq)]` instead of `arr[seq]`. In the future this will be interpreted as an array index, `arr[np.array(seq)]`, which will result either in an error or a different result.\n",
      "  return np.add.reduce(sorted[indexer] * weights, axis=axis) / sumval\n"
     ]
    },
    {
     "data": {
      "text/plain": [
       "<matplotlib.axes._subplots.AxesSubplot at 0x7fdfe29c5320>"
      ]
     },
     "execution_count": 34,
     "metadata": {},
     "output_type": "execute_result"
    },
    {
     "data": {
      "image/png": "[encoded data removed]",
      "text/plain": [
       "<Figure size 1080x360 with 2 Axes>"
      ]
     },
     "metadata": {
      "needs_background": "light"
     },
     "output_type": "display_data"
    }
   ],
   "source": [
    "f = plt.subplots(figsize=(15,5))\n",
    "ax1 = plt.subplot(121)\n",
    "ax2 = plt.subplot(122, sharey = ax1)\n",
    "sns.regplot(x=\"Year\", y=\"GDP_annual_diff_rate\", data=df_exploding, ax=ax1)\n",
    "sns.regplot(x=\"Year\", y=\"GDP_period_diff_rate\", data=df_exploding, ax=ax2)"
   ]
  },
  {
   "cell_type": "markdown",
   "metadata": {},
   "source": [
    "\"GDP_annual_diff_rate\" was used to predict Unemployment rate in \"Missing Data Imputation\" task, but for every year, the growth rate of GDP decreases\n",
    "\n",
    "\"GDP_period_diff_rate\" predict the GDP of Vietname increases.\n",
    "\n",
    "We hope Vietnam’s economic growth positive in 2019"
   ]
  },
  {
   "cell_type": "markdown",
   "metadata": {},
   "source": [
    "<h3>c) UPR:</h3>\n",
    "The unemployment rate is a measure of the prevalence of unemployment and it is calculated as a percentage by dividing the number of unemployed individuals by all individuals currently in the labor force. During periods of recession, an economy usually experiences a relatively high unemployment rate.\n",
    "\n",
    "In this proposal, we replace the missing data of the unemployment rate."
   ]
  },
  {
   "cell_type": "code",
   "execution_count": 35,
   "metadata": {},
   "outputs": [
    {
     "data": {
      "text/plain": [
       "<seaborn.axisgrid.FacetGrid at 0x7fdfe2a14828>"
      ]
     },
     "execution_count": 35,
     "metadata": {},
     "output_type": "execute_result"
    },
    {
     "data": {
      "image/png": "[encoded data removed]",
      "text/plain": [
       "<Figure size 360x360 with 1 Axes>"
      ]
     },
     "metadata": {
      "needs_background": "light"
     },
     "output_type": "display_data"
    }
   ],
   "source": [
    "sns.lmplot(x=\"Year\", y=\"UPR\", data=df_exploding, fit_reg=False)"
   ]
  },
  {
   "cell_type": "markdown",
   "metadata": {},
   "source": [
    "## References:\n",
    "[1] https://towardsdatascience.com/6-different-ways-to-compensate-for-missing-values-data-imputation-with-examples-6022d9ca0779"
   ]
  }
 ],
 "metadata": {
  "kernelspec": {
   "display_name": "Python 3",
   "language": "python",
   "name": "python3"
  },
  "language_info": {
   "codemirror_mode": {
    "name": "ipython",
    "version": 3
   },
   "file_extension": ".py",
   "mimetype": "text/x-python",
   "name": "python",
   "nbconvert_exporter": "python",
   "pygments_lexer": "ipython3",
   "version": "3.6.8"
  }
 },
 "nbformat": 4,
 "nbformat_minor": 2
}
