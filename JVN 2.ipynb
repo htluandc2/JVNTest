{
 "cells": [
  {
   "cell_type": "code",
   "execution_count": 1,
   "metadata": {},
   "outputs": [],
   "source": [
    "import os, math, subprocess\n",
    "import pandas as pd\n",
    "import numpy as np\n",
    "\n",
    "%matplotlib inline\n",
    "import matplotlib.pyplot as plt\n",
    "\n",
    "# some settings for displaying Pandas results\n",
    "pd.set_option('display.width', 2000)\n",
    "pd.set_option('display.max_rows', 500)\n",
    "pd.set_option('display.max_columns', 500)\n",
    "pd.set_option('display.precision', 4)\n",
    "pd.set_option('display.max_colwidth', -1)\n",
    "file_data = 'data.csv'"
   ]
  },
  {
   "cell_type": "code",
   "execution_count": 2,
   "metadata": {},
   "outputs": [],
   "source": [
    "import seaborn as sns"
   ]
  },
  {
   "cell_type": "code",
   "execution_count": 3,
   "metadata": {},
   "outputs": [],
   "source": [
    "df = pd.read_csv(file_data)\n",
    "df.columns = ['Year', 'GDP', 'UPR']\n",
    "# df"
   ]
  },
  {
   "cell_type": "code",
   "execution_count": 4,
   "metadata": {},
   "outputs": [
    {
     "data": {
      "text/html": [
       "<div>\n",
       "<style scoped>\n",
       "    .dataframe tbody tr th:only-of-type {\n",
       "        vertical-align: middle;\n",
       "    }\n",
       "\n",
       "    .dataframe tbody tr th {\n",
       "        vertical-align: top;\n",
       "    }\n",
       "\n",
       "    .dataframe thead th {\n",
       "        text-align: right;\n",
       "    }\n",
       "</style>\n",
       "<table border=\"1\" class=\"dataframe\">\n",
       "  <thead>\n",
       "    <tr style=\"text-align: right;\">\n",
       "      <th></th>\n",
       "      <th>Year</th>\n",
       "      <th>GDP</th>\n",
       "      <th>UPR</th>\n",
       "    </tr>\n",
       "  </thead>\n",
       "  <tbody>\n",
       "    <tr>\n",
       "      <th>0</th>\n",
       "      <td>1980</td>\n",
       "      <td>27.847</td>\n",
       "      <td>NaN</td>\n",
       "    </tr>\n",
       "    <tr>\n",
       "      <th>1</th>\n",
       "      <td>1981</td>\n",
       "      <td>13.875</td>\n",
       "      <td>NaN</td>\n",
       "    </tr>\n",
       "    <tr>\n",
       "      <th>2</th>\n",
       "      <td>1982</td>\n",
       "      <td>18.405</td>\n",
       "      <td>NaN</td>\n",
       "    </tr>\n",
       "    <tr>\n",
       "      <th>3</th>\n",
       "      <td>1983</td>\n",
       "      <td>27.726</td>\n",
       "      <td>NaN</td>\n",
       "    </tr>\n",
       "    <tr>\n",
       "      <th>4</th>\n",
       "      <td>1984</td>\n",
       "      <td>48.177</td>\n",
       "      <td>NaN</td>\n",
       "    </tr>\n",
       "  </tbody>\n",
       "</table>\n",
       "</div>"
      ],
      "text/plain": [
       "   Year     GDP  UPR\n",
       "0  1980  27.847 NaN \n",
       "1  1981  13.875 NaN \n",
       "2  1982  18.405 NaN \n",
       "3  1983  27.726 NaN \n",
       "4  1984  48.177 NaN "
      ]
     },
     "execution_count": 4,
     "metadata": {},
     "output_type": "execute_result"
    }
   ],
   "source": [
    "df = df.apply(pd.to_numeric, errors='coerce')\n",
    "df.head()"
   ]
  },
  {
   "cell_type": "code",
   "execution_count": 5,
   "metadata": {},
   "outputs": [
    {
     "name": "stdout",
     "output_type": "stream",
     "text": [
      "<class 'pandas.core.frame.DataFrame'>\n",
      "RangeIndex: 39 entries, 0 to 38\n",
      "Data columns (total 3 columns):\n",
      "Year    39 non-null int64\n",
      "GDP     39 non-null float64\n",
      "UPR     29 non-null float64\n",
      "dtypes: float64(2), int64(1)\n",
      "memory usage: 1016.0 bytes\n"
     ]
    }
   ],
   "source": [
    "df.info()"
   ]
  },
  {
   "cell_type": "code",
   "execution_count": 6,
   "metadata": {},
   "outputs": [],
   "source": [
    "def exploring_stats(df_data):\n",
    "    # check rows, cols\n",
    "    total_records = df_data.shape[0]\n",
    "    total_columns = df_data.shape[1]\n",
    "    print(\"Total records:\", total_records)\n",
    "    print(\"Total columns:\", total_columns)\n",
    "\n",
    "    # check dtypes\n",
    "    name = []\n",
    "    sub_type = []\n",
    "    for n, t in df_data.dtypes.iteritems():\n",
    "        name.append(n)\n",
    "        sub_type.append(t)\n",
    "\n",
    "    # check distinct\n",
    "    ls_ndist = []\n",
    "    for cname in df_data.columns:\n",
    "        ndist = df_data[cname].nunique()\n",
    "        pct_dist = ndist * 100.0 / total_records\n",
    "        ls_ndist.append(\"{} ({:0.2f}%)\".format(ndist, pct_dist))\n",
    "\n",
    "    # check missing\n",
    "    ls_nmiss = []\n",
    "    for cname in df_data.columns:\n",
    "        nmiss = df_data[cname].isnull().sum()\n",
    "        pct_miss = nmiss * 100.0 / total_records\n",
    "        ls_nmiss.append(\"{} ({:0.2f}%)\".format(nmiss, pct_miss))\n",
    "\n",
    "    # check zeros\n",
    "    ls_zeros = []\n",
    "    for cname in df_data.columns:\n",
    "        try:\n",
    "            nzeros = (df_data[cname] == 0).sum()\n",
    "            pct_zeros = nzeros * 100.0 / total_records\n",
    "            ls_zeros.append(\"{} ({:0.2f}%)\".format(nzeros, pct_zeros))\n",
    "        except:\n",
    "            ls_zeros.append(\"{} ({:0.2f}%)\".format(0, 0))\n",
    "            continue\n",
    "\n",
    "    # check negative\n",
    "    ls_neg = []\n",
    "    for cname in df_data.columns:\n",
    "        try:\n",
    "            nneg = (df_data[cname].astype(\"float\") < 0).sum()\n",
    "            pct_neg = nneg * 100.0 / total_records\n",
    "            ls_neg.append(\"{} ({:0.2f}%)\".format(nneg, pct_neg))\n",
    "        except:\n",
    "            ls_neg.append(\"{} ({:0.2f}%)\".format(0, 0))\n",
    "            continue\n",
    "\n",
    "    # prepare output\n",
    "    data = {\n",
    "        \"name\": name,\n",
    "        \"sub_type\": sub_type,\n",
    "        \"n_distinct\": ls_ndist,\n",
    "        \"n_miss\": ls_nmiss,\n",
    "        \"n_zeros\": ls_zeros,\n",
    "        \"n_negative\": ls_neg,\n",
    "    }\n",
    "\n",
    "    # check stats\n",
    "    pdf_stats = df_data.describe().transpose()\n",
    "    ls_stats = []\n",
    "    for stat in pdf_stats.columns:\n",
    "        data[stat] = []\n",
    "        for cname in df_data.columns:\n",
    "            try:\n",
    "                data[stat].append(pdf_stats.loc[cname, stat])\n",
    "            except:\n",
    "                data[stat].append(0.0)\n",
    "\n",
    "    # output\n",
    "    col_ordered = [\"sub_type\", \"n_distinct\", \"n_miss\", \"n_negative\", \"n_zeros\",\n",
    "                   \"25%\", \"50%\", \"75%\", \"count\", \"max\", \"mean\", \"min\", \"std\"] \n",
    "    pdf_data = pd.DataFrame(data).set_index(\"name\")\n",
    "    pdf_data = pdf_data[col_ordered]\n",
    "\n",
    "    return pdf_data\n",
    "\n"
   ]
  },
  {
   "cell_type": "code",
   "execution_count": 7,
   "metadata": {},
   "outputs": [
    {
     "name": "stdout",
     "output_type": "stream",
     "text": [
      "Exploring data.csv\n",
      "Total records: 39\n",
      "Total columns: 3\n"
     ]
    },
    {
     "data": {
      "text/html": [
       "<div>\n",
       "<style scoped>\n",
       "    .dataframe tbody tr th:only-of-type {\n",
       "        vertical-align: middle;\n",
       "    }\n",
       "\n",
       "    .dataframe tbody tr th {\n",
       "        vertical-align: top;\n",
       "    }\n",
       "\n",
       "    .dataframe thead th {\n",
       "        text-align: right;\n",
       "    }\n",
       "</style>\n",
       "<table border=\"1\" class=\"dataframe\">\n",
       "  <thead>\n",
       "    <tr style=\"text-align: right;\">\n",
       "      <th></th>\n",
       "      <th>sub_type</th>\n",
       "      <th>n_distinct</th>\n",
       "      <th>n_miss</th>\n",
       "      <th>n_negative</th>\n",
       "      <th>n_zeros</th>\n",
       "      <th>25%</th>\n",
       "      <th>50%</th>\n",
       "      <th>75%</th>\n",
       "      <th>count</th>\n",
       "      <th>max</th>\n",
       "      <th>mean</th>\n",
       "      <th>min</th>\n",
       "      <th>std</th>\n",
       "    </tr>\n",
       "    <tr>\n",
       "      <th>name</th>\n",
       "      <th></th>\n",
       "      <th></th>\n",
       "      <th></th>\n",
       "      <th></th>\n",
       "      <th></th>\n",
       "      <th></th>\n",
       "      <th></th>\n",
       "      <th></th>\n",
       "      <th></th>\n",
       "      <th></th>\n",
       "      <th></th>\n",
       "      <th></th>\n",
       "      <th></th>\n",
       "    </tr>\n",
       "  </thead>\n",
       "  <tbody>\n",
       "    <tr>\n",
       "      <th>Year</th>\n",
       "      <td>int64</td>\n",
       "      <td>39 (100.00%)</td>\n",
       "      <td>0 (0.00%)</td>\n",
       "      <td>0 (0.00%)</td>\n",
       "      <td>0 (0.00%)</td>\n",
       "      <td>1989.500</td>\n",
       "      <td>1999.000</td>\n",
       "      <td>2008.5000</td>\n",
       "      <td>39.0</td>\n",
       "      <td>2018.000</td>\n",
       "      <td>1999.0000</td>\n",
       "      <td>1980.000</td>\n",
       "      <td>11.4018</td>\n",
       "    </tr>\n",
       "    <tr>\n",
       "      <th>GDP</th>\n",
       "      <td>float64</td>\n",
       "      <td>39 (100.00%)</td>\n",
       "      <td>0 (0.00%)</td>\n",
       "      <td>0 (0.00%)</td>\n",
       "      <td>0 (0.00%)</td>\n",
       "      <td>22.016</td>\n",
       "      <td>33.873</td>\n",
       "      <td>99.9515</td>\n",
       "      <td>39.0</td>\n",
       "      <td>241.272</td>\n",
       "      <td>67.7161</td>\n",
       "      <td>6.293</td>\n",
       "      <td>68.1957</td>\n",
       "    </tr>\n",
       "    <tr>\n",
       "      <th>UPR</th>\n",
       "      <td>float64</td>\n",
       "      <td>24 (61.54%)</td>\n",
       "      <td>10 (25.64%)</td>\n",
       "      <td>0 (0.00%)</td>\n",
       "      <td>0 (0.00%)</td>\n",
       "      <td>4.300</td>\n",
       "      <td>5.600</td>\n",
       "      <td>6.4000</td>\n",
       "      <td>29.0</td>\n",
       "      <td>12.300</td>\n",
       "      <td>5.7034</td>\n",
       "      <td>2.100</td>\n",
       "      <td>2.8550</td>\n",
       "    </tr>\n",
       "  </tbody>\n",
       "</table>\n",
       "</div>"
      ],
      "text/plain": [
       "     sub_type    n_distinct       n_miss n_negative    n_zeros       25%       50%        75%  count       max       mean       min      std\n",
       "name                                                                                                                                        \n",
       "Year  int64    39 (100.00%)  0 (0.00%)    0 (0.00%)  0 (0.00%)  1989.500  1999.000  2008.5000  39.0   2018.000  1999.0000  1980.000  11.4018\n",
       "GDP   float64  39 (100.00%)  0 (0.00%)    0 (0.00%)  0 (0.00%)  22.016    33.873    99.9515    39.0   241.272   67.7161    6.293     68.1957\n",
       "UPR   float64  24 (61.54%)   10 (25.64%)  0 (0.00%)  0 (0.00%)  4.300     5.600     6.4000     29.0   12.300    5.7034     2.100     2.8550 "
      ]
     },
     "metadata": {},
     "output_type": "display_data"
    }
   ],
   "source": [
    "print(\"Exploring {}\".format(file_data))\n",
    "display( exploring_stats(df))"
   ]
  },
  {
   "cell_type": "code",
   "execution_count": 8,
   "metadata": {},
   "outputs": [
    {
     "data": {
      "text/html": [
       "<div>\n",
       "<style scoped>\n",
       "    .dataframe tbody tr th:only-of-type {\n",
       "        vertical-align: middle;\n",
       "    }\n",
       "\n",
       "    .dataframe tbody tr th {\n",
       "        vertical-align: top;\n",
       "    }\n",
       "\n",
       "    .dataframe thead th {\n",
       "        text-align: right;\n",
       "    }\n",
       "</style>\n",
       "<table border=\"1\" class=\"dataframe\">\n",
       "  <thead>\n",
       "    <tr style=\"text-align: right;\">\n",
       "      <th></th>\n",
       "      <th>Year</th>\n",
       "      <th>GDP</th>\n",
       "      <th>UPR</th>\n",
       "    </tr>\n",
       "  </thead>\n",
       "  <tbody>\n",
       "    <tr>\n",
       "      <th>count</th>\n",
       "      <td>39.0000</td>\n",
       "      <td>39.0000</td>\n",
       "      <td>29.0000</td>\n",
       "    </tr>\n",
       "    <tr>\n",
       "      <th>mean</th>\n",
       "      <td>1999.0000</td>\n",
       "      <td>67.7161</td>\n",
       "      <td>5.7034</td>\n",
       "    </tr>\n",
       "    <tr>\n",
       "      <th>std</th>\n",
       "      <td>11.4018</td>\n",
       "      <td>68.1957</td>\n",
       "      <td>2.8550</td>\n",
       "    </tr>\n",
       "    <tr>\n",
       "      <th>min</th>\n",
       "      <td>1980.0000</td>\n",
       "      <td>6.2930</td>\n",
       "      <td>2.1000</td>\n",
       "    </tr>\n",
       "    <tr>\n",
       "      <th>25%</th>\n",
       "      <td>1989.5000</td>\n",
       "      <td>22.0160</td>\n",
       "      <td>4.3000</td>\n",
       "    </tr>\n",
       "    <tr>\n",
       "      <th>50%</th>\n",
       "      <td>1999.0000</td>\n",
       "      <td>33.8730</td>\n",
       "      <td>5.6000</td>\n",
       "    </tr>\n",
       "    <tr>\n",
       "      <th>75%</th>\n",
       "      <td>2008.5000</td>\n",
       "      <td>99.9515</td>\n",
       "      <td>6.4000</td>\n",
       "    </tr>\n",
       "    <tr>\n",
       "      <th>max</th>\n",
       "      <td>2018.0000</td>\n",
       "      <td>241.2720</td>\n",
       "      <td>12.3000</td>\n",
       "    </tr>\n",
       "  </tbody>\n",
       "</table>\n",
       "</div>"
      ],
      "text/plain": [
       "            Year       GDP      UPR\n",
       "count  39.0000    39.0000   29.0000\n",
       "mean   1999.0000  67.7161   5.7034 \n",
       "std    11.4018    68.1957   2.8550 \n",
       "min    1980.0000  6.2930    2.1000 \n",
       "25%    1989.5000  22.0160   4.3000 \n",
       "50%    1999.0000  33.8730   5.6000 \n",
       "75%    2008.5000  99.9515   6.4000 \n",
       "max    2018.0000  241.2720  12.3000"
      ]
     },
     "execution_count": 8,
     "metadata": {},
     "output_type": "execute_result"
    }
   ],
   "source": [
    "df.describe()"
   ]
  },
  {
   "cell_type": "code",
   "execution_count": 9,
   "metadata": {},
   "outputs": [
    {
     "data": {
      "text/plain": [
       "<matplotlib.axes._subplots.AxesSubplot at 0x7f9309f72c50>"
      ]
     },
     "execution_count": 9,
     "metadata": {},
     "output_type": "execute_result"
    },
    {
     "data": {
      "image/png": "[encoded data removed]",
      "text/plain": [
       "<Figure size 432x288 with 1 Axes>"
      ]
     },
     "metadata": {
      "needs_background": "light"
     },
     "output_type": "display_data"
    }
   ],
   "source": [
    "sns.regplot(x=\"Year\", y=\"GDP\", data=df, fit_reg=False)\n",
    "sns.regplot(x=\"Year\", y=\"UPR\", data=df, fit_reg=False)"
   ]
  },
  {
   "cell_type": "markdown",
   "metadata": {},
   "source": [
    "<h1> I. Mô hình hóa GDP thường niên: </h1>"
   ]
  },
  {
   "cell_type": "code",
   "execution_count": null,
   "metadata": {},
   "outputs": [],
   "source": []
  },
  {
   "cell_type": "markdown",
   "metadata": {},
   "source": [
    "<h3>Bước 1: tìm tham số rate (và sai số của mô hình):</h3>"
   ]
  },
  {
   "cell_type": "code",
   "execution_count": 10,
   "metadata": {},
   "outputs": [],
   "source": [
    "# year_0 = 0"
   ]
  },
  {
   "cell_type": "code",
   "execution_count": 11,
   "metadata": {},
   "outputs": [],
   "source": [
    "# Tính different theo từng năm của GDP\n",
    "df[\"GDP_diff\"] = df[\"GDP\"].diff()"
   ]
  },
  {
   "cell_type": "code",
   "execution_count": 12,
   "metadata": {},
   "outputs": [
    {
     "data": {
      "text/html": [
       "<div>\n",
       "<style scoped>\n",
       "    .dataframe tbody tr th:only-of-type {\n",
       "        vertical-align: middle;\n",
       "    }\n",
       "\n",
       "    .dataframe tbody tr th {\n",
       "        vertical-align: top;\n",
       "    }\n",
       "\n",
       "    .dataframe thead th {\n",
       "        text-align: right;\n",
       "    }\n",
       "</style>\n",
       "<table border=\"1\" class=\"dataframe\">\n",
       "  <thead>\n",
       "    <tr style=\"text-align: right;\">\n",
       "      <th></th>\n",
       "      <th>Year</th>\n",
       "      <th>GDP</th>\n",
       "      <th>UPR</th>\n",
       "      <th>GDP_diff</th>\n",
       "    </tr>\n",
       "  </thead>\n",
       "  <tbody>\n",
       "    <tr>\n",
       "      <th>0</th>\n",
       "      <td>1980</td>\n",
       "      <td>27.847</td>\n",
       "      <td>NaN</td>\n",
       "      <td>NaN</td>\n",
       "    </tr>\n",
       "    <tr>\n",
       "      <th>1</th>\n",
       "      <td>1981</td>\n",
       "      <td>13.875</td>\n",
       "      <td>NaN</td>\n",
       "      <td>-13.972</td>\n",
       "    </tr>\n",
       "    <tr>\n",
       "      <th>2</th>\n",
       "      <td>1982</td>\n",
       "      <td>18.405</td>\n",
       "      <td>NaN</td>\n",
       "      <td>4.530</td>\n",
       "    </tr>\n",
       "    <tr>\n",
       "      <th>3</th>\n",
       "      <td>1983</td>\n",
       "      <td>27.726</td>\n",
       "      <td>NaN</td>\n",
       "      <td>9.321</td>\n",
       "    </tr>\n",
       "    <tr>\n",
       "      <th>4</th>\n",
       "      <td>1984</td>\n",
       "      <td>48.177</td>\n",
       "      <td>NaN</td>\n",
       "      <td>20.451</td>\n",
       "    </tr>\n",
       "  </tbody>\n",
       "</table>\n",
       "</div>"
      ],
      "text/plain": [
       "   Year     GDP  UPR  GDP_diff\n",
       "0  1980  27.847 NaN  NaN      \n",
       "1  1981  13.875 NaN  -13.972  \n",
       "2  1982  18.405 NaN   4.530   \n",
       "3  1983  27.726 NaN   9.321   \n",
       "4  1984  48.177 NaN   20.451  "
      ]
     },
     "execution_count": 12,
     "metadata": {},
     "output_type": "execute_result"
    }
   ],
   "source": [
    "df[:5]"
   ]
  },
  {
   "cell_type": "code",
   "execution_count": 13,
   "metadata": {},
   "outputs": [
    {
     "data": {
      "text/html": [
       "<div>\n",
       "<style scoped>\n",
       "    .dataframe tbody tr th:only-of-type {\n",
       "        vertical-align: middle;\n",
       "    }\n",
       "\n",
       "    .dataframe tbody tr th {\n",
       "        vertical-align: top;\n",
       "    }\n",
       "\n",
       "    .dataframe thead th {\n",
       "        text-align: right;\n",
       "    }\n",
       "</style>\n",
       "<table border=\"1\" class=\"dataframe\">\n",
       "  <thead>\n",
       "    <tr style=\"text-align: right;\">\n",
       "      <th></th>\n",
       "      <th>Year</th>\n",
       "      <th>GDP</th>\n",
       "      <th>UPR</th>\n",
       "      <th>GDP_diff</th>\n",
       "      <th>GDP_growth</th>\n",
       "    </tr>\n",
       "  </thead>\n",
       "  <tbody>\n",
       "    <tr>\n",
       "      <th>0</th>\n",
       "      <td>1980</td>\n",
       "      <td>27.847</td>\n",
       "      <td>NaN</td>\n",
       "      <td>NaN</td>\n",
       "      <td>NaN</td>\n",
       "    </tr>\n",
       "    <tr>\n",
       "      <th>1</th>\n",
       "      <td>1981</td>\n",
       "      <td>13.875</td>\n",
       "      <td>NaN</td>\n",
       "      <td>-13.972</td>\n",
       "      <td>-0.5017</td>\n",
       "    </tr>\n",
       "    <tr>\n",
       "      <th>2</th>\n",
       "      <td>1982</td>\n",
       "      <td>18.405</td>\n",
       "      <td>NaN</td>\n",
       "      <td>4.530</td>\n",
       "      <td>0.3265</td>\n",
       "    </tr>\n",
       "    <tr>\n",
       "      <th>3</th>\n",
       "      <td>1983</td>\n",
       "      <td>27.726</td>\n",
       "      <td>NaN</td>\n",
       "      <td>9.321</td>\n",
       "      <td>0.5064</td>\n",
       "    </tr>\n",
       "    <tr>\n",
       "      <th>4</th>\n",
       "      <td>1984</td>\n",
       "      <td>48.177</td>\n",
       "      <td>NaN</td>\n",
       "      <td>20.451</td>\n",
       "      <td>0.7376</td>\n",
       "    </tr>\n",
       "  </tbody>\n",
       "</table>\n",
       "</div>"
      ],
      "text/plain": [
       "   Year     GDP  UPR  GDP_diff  GDP_growth\n",
       "0  1980  27.847 NaN  NaN       NaN        \n",
       "1  1981  13.875 NaN  -13.972   -0.5017    \n",
       "2  1982  18.405 NaN   4.530     0.3265    \n",
       "3  1983  27.726 NaN   9.321     0.5064    \n",
       "4  1984  48.177 NaN   20.451    0.7376    "
      ]
     },
     "execution_count": 13,
     "metadata": {},
     "output_type": "execute_result"
    }
   ],
   "source": [
    "# df[\"GDP_growth\"] = df[\"GDP_diff\"] / df[\"GDP\"] * 100\n",
    "df[\"GDP_growth\"] = df[\"GDP_diff\"] / df[\"GDP\"].shift(1)\n",
    "df[:5]"
   ]
  },
  {
   "cell_type": "code",
   "execution_count": 14,
   "metadata": {},
   "outputs": [
    {
     "name": "stderr",
     "output_type": "stream",
     "text": [
      "/home/system-gru/anaconda3/lib/python3.6/site-packages/scipy/stats/stats.py:1713: FutureWarning: Using a non-tuple sequence for multidimensional indexing is deprecated; use `arr[tuple(seq)]` instead of `arr[seq]`. In the future this will be interpreted as an array index, `arr[np.array(seq)]`, which will result either in an error or a different result.\n",
      "  return np.add.reduce(sorted[indexer] * weights, axis=axis) / sumval\n"
     ]
    },
    {
     "data": {
      "text/plain": [
       "<matplotlib.axes._subplots.AxesSubplot at 0x7f9307e9eeb8>"
      ]
     },
     "execution_count": 14,
     "metadata": {},
     "output_type": "execute_result"
    },
    {
     "data": {
      "image/png": "[encoded data removed]",
      "text/plain": [
       "<Figure size 432x288 with 1 Axes>"
      ]
     },
     "metadata": {
      "needs_background": "light"
     },
     "output_type": "display_data"
    }
   ],
   "source": [
    "sns.regplot(x=\"Year\", y=\"GDP_growth\", data=df)"
   ]
  },
  {
   "cell_type": "code",
   "execution_count": 15,
   "metadata": {},
   "outputs": [
    {
     "name": "stderr",
     "output_type": "stream",
     "text": [
      "/home/system-gru/anaconda3/lib/python3.6/site-packages/scipy/stats/stats.py:1713: FutureWarning: Using a non-tuple sequence for multidimensional indexing is deprecated; use `arr[tuple(seq)]` instead of `arr[seq]`. In the future this will be interpreted as an array index, `arr[np.array(seq)]`, which will result either in an error or a different result.\n",
      "  return np.add.reduce(sorted[indexer] * weights, axis=axis) / sumval\n",
      "/home/system-gru/anaconda3/lib/python3.6/site-packages/matplotlib/axes/_axes.py:6521: MatplotlibDeprecationWarning: \n",
      "The 'normed' kwarg was deprecated in Matplotlib 2.1 and will be removed in 3.1. Use 'density' instead.\n",
      "  alternative=\"'density'\", removal=\"3.1\")\n"
     ]
    },
    {
     "data": {
      "text/plain": [
       "<matplotlib.axes._subplots.AxesSubplot at 0x7f92fe938d68>"
      ]
     },
     "execution_count": 15,
     "metadata": {},
     "output_type": "execute_result"
    },
    {
     "data": {
      "image/png": "[encoded data removed]",
      "text/plain": [
       "<Figure size 432x288 with 1 Axes>"
      ]
     },
     "metadata": {
      "needs_background": "light"
     },
     "output_type": "display_data"
    }
   ],
   "source": [
    "from scipy.stats import norm\n",
    "sns.distplot(df[\"GDP_growth\"][1:], fit=norm, kde=False)"
   ]
  },
  {
   "cell_type": "code",
   "execution_count": 16,
   "metadata": {},
   "outputs": [
    {
     "data": {
      "text/plain": [
       "(0.12325725064640371, 0.3323325694828632)"
      ]
     },
     "execution_count": 16,
     "metadata": {},
     "output_type": "execute_result"
    }
   ],
   "source": [
    "rate_mu, rate_std = norm.fit(df[\"GDP_growth\"][1:])\n",
    "rate_mu, rate_std"
   ]
  },
  {
   "cell_type": "code",
   "execution_count": 17,
   "metadata": {},
   "outputs": [],
   "source": [
    "df[\"time\"] = df[\"Year\"] - 1980\n",
    "\n",
    "df[\"GDP_pred\"] = df[\"GDP\"] * (1 + rate_mu)\n",
    "df[\"GDP_pred\"] = df[\"GDP_pred\"].shift(1)"
   ]
  },
  {
   "cell_type": "code",
   "execution_count": 18,
   "metadata": {},
   "outputs": [
    {
     "data": {
      "text/plain": [
       "<matplotlib.axes._subplots.AxesSubplot at 0x7f9307eaf400>"
      ]
     },
     "execution_count": 18,
     "metadata": {},
     "output_type": "execute_result"
    },
    {
     "data": {
      "image/png": "[encoded data removed]",
      "text/plain": [
       "<Figure size 432x288 with 1 Axes>"
      ]
     },
     "metadata": {
      "needs_background": "light"
     },
     "output_type": "display_data"
    }
   ],
   "source": [
    "sns.regplot(x=\"Year\", y=\"GDP\", data=df, fit_reg=False)\n",
    "sns.regplot(x=\"Year\", y=\"GDP_pred\", data=df, fit_reg=False)"
   ]
  },
  {
   "cell_type": "markdown",
   "metadata": {},
   "source": [
    "Như vậy dựa vào năm trước có thể suy luận khá chính xác năm sau."
   ]
  },
  {
   "cell_type": "markdown",
   "metadata": {},
   "source": [
    "<h3>Bước 2: tìm tham số X_0 (GDP ban đầu của Việt Nam):</h3>"
   ]
  },
  {
   "cell_type": "code",
   "execution_count": 19,
   "metadata": {},
   "outputs": [],
   "source": [
    "gdp_data = df[\"GDP\"].values"
   ]
  },
  {
   "cell_type": "code",
   "execution_count": 75,
   "metadata": {},
   "outputs": [],
   "source": [
    "x_0 = []\n",
    "\n",
    "for t in range(10, len(gdp_data)):\n",
    "    factor = (1 + rate_mu) ** t\n",
    "    x_0.append(gdp_data[t] / factor)"
   ]
  },
  {
   "cell_type": "code",
   "execution_count": 76,
   "metadata": {},
   "outputs": [],
   "source": [
    "x0 = np.array(x_0)"
   ]
  },
  {
   "cell_type": "code",
   "execution_count": 77,
   "metadata": {},
   "outputs": [
    {
     "data": {
      "text/plain": [
       "(3.1800863138431996, 0.4664257598419014)"
      ]
     },
     "execution_count": 77,
     "metadata": {},
     "output_type": "execute_result"
    }
   ],
   "source": [
    "x0_mu, x0_std = norm.fit(x0)\n",
    "x0_mu, x0_std"
   ]
  },
  {
   "cell_type": "code",
   "execution_count": 78,
   "metadata": {},
   "outputs": [],
   "source": [
    "df[\"GDP_pred2\"] = x0_mu * (1 + rate_mu) ** df.index"
   ]
  },
  {
   "cell_type": "code",
   "execution_count": 79,
   "metadata": {},
   "outputs": [
    {
     "data": {
      "text/plain": [
       "<matplotlib.axes._subplots.AxesSubplot at 0x7f92fabcbeb8>"
      ]
     },
     "execution_count": 79,
     "metadata": {},
     "output_type": "execute_result"
    },
    {
     "data": {
      "image/png": "[encoded data removed]",
      "text/plain": [
       "<Figure size 432x288 with 1 Axes>"
      ]
     },
     "metadata": {
      "needs_background": "light"
     },
     "output_type": "display_data"
    }
   ],
   "source": [
    "sns.regplot(x=\"Year\", y=\"GDP\", data=df, fit_reg=False)\n",
    "sns.regplot(x=\"Year\", y=\"GDP_pred2\", data=df, fit_reg=False)"
   ]
  },
  {
   "cell_type": "markdown",
   "metadata": {},
   "source": [
    "<h1> II. Mô hình hóa tỷ lệ thất nghiệp: </h1>\n",
    "\n",
    "Tỷ lệ thất nghiệp có thể mô phỏng thông qua cả mô hình linear lẫn exponential growth."
   ]
  },
  {
   "cell_type": "code",
   "execution_count": 27,
   "metadata": {},
   "outputs": [
    {
     "name": "stderr",
     "output_type": "stream",
     "text": [
      "/home/system-gru/anaconda3/lib/python3.6/site-packages/scipy/stats/stats.py:1713: FutureWarning: Using a non-tuple sequence for multidimensional indexing is deprecated; use `arr[tuple(seq)]` instead of `arr[seq]`. In the future this will be interpreted as an array index, `arr[np.array(seq)]`, which will result either in an error or a different result.\n",
      "  return np.add.reduce(sorted[indexer] * weights, axis=axis) / sumval\n"
     ]
    },
    {
     "data": {
      "text/plain": [
       "<matplotlib.axes._subplots.AxesSubplot at 0x7f92fb7a0048>"
      ]
     },
     "execution_count": 27,
     "metadata": {},
     "output_type": "execute_result"
    },
    {
     "data": {
      "image/png": "[encoded data removed]",
      "text/plain": [
       "<Figure size 432x288 with 1 Axes>"
      ]
     },
     "metadata": {
      "needs_background": "light"
     },
     "output_type": "display_data"
    }
   ],
   "source": [
    "sns.regplot(x=\"Year\", y=\"UPR\", data=df)\n",
    "# sns.regplot(x=\"Year\", y=\"UPR\", data=df)"
   ]
  },
  {
   "cell_type": "markdown",
   "metadata": {},
   "source": [
    "<h3> Mô hình 1: Exponential growth </h3>\n",
    "\n",
    "Làm tương tự với mô hình trên"
   ]
  },
  {
   "cell_type": "code",
   "execution_count": 34,
   "metadata": {},
   "outputs": [],
   "source": [
    "# Tính different theo từng năm của UPR\n",
    "df[\"UPR_diff\"] = df[\"UPR\"].diff() / 100"
   ]
  },
  {
   "cell_type": "code",
   "execution_count": 56,
   "metadata": {},
   "outputs": [
    {
     "data": {
      "text/html": [
       "<div>\n",
       "<style scoped>\n",
       "    .dataframe tbody tr th:only-of-type {\n",
       "        vertical-align: middle;\n",
       "    }\n",
       "\n",
       "    .dataframe tbody tr th {\n",
       "        vertical-align: top;\n",
       "    }\n",
       "\n",
       "    .dataframe thead th {\n",
       "        text-align: right;\n",
       "    }\n",
       "</style>\n",
       "<table border=\"1\" class=\"dataframe\">\n",
       "  <thead>\n",
       "    <tr style=\"text-align: right;\">\n",
       "      <th></th>\n",
       "      <th>Year</th>\n",
       "      <th>GDP</th>\n",
       "      <th>UPR</th>\n",
       "      <th>GDP_diff</th>\n",
       "      <th>GDP_growth</th>\n",
       "      <th>time</th>\n",
       "      <th>GDP_pred</th>\n",
       "      <th>GDP_pred2</th>\n",
       "      <th>UPR_diff</th>\n",
       "    </tr>\n",
       "  </thead>\n",
       "  <tbody>\n",
       "    <tr>\n",
       "      <th>10</th>\n",
       "      <td>1990</td>\n",
       "      <td>6.472</td>\n",
       "      <td>12.3</td>\n",
       "      <td>0.179</td>\n",
       "      <td>0.0284</td>\n",
       "      <td>10</td>\n",
       "      <td>7.0687</td>\n",
       "      <td>10.1679</td>\n",
       "      <td>NaN</td>\n",
       "    </tr>\n",
       "    <tr>\n",
       "      <th>11</th>\n",
       "      <td>1991</td>\n",
       "      <td>7.642</td>\n",
       "      <td>10.4</td>\n",
       "      <td>1.170</td>\n",
       "      <td>0.1808</td>\n",
       "      <td>11</td>\n",
       "      <td>7.2697</td>\n",
       "      <td>11.4212</td>\n",
       "      <td>-0.019</td>\n",
       "    </tr>\n",
       "    <tr>\n",
       "      <th>12</th>\n",
       "      <td>1992</td>\n",
       "      <td>9.867</td>\n",
       "      <td>11.0</td>\n",
       "      <td>2.225</td>\n",
       "      <td>0.2912</td>\n",
       "      <td>12</td>\n",
       "      <td>8.5839</td>\n",
       "      <td>12.8289</td>\n",
       "      <td>0.006</td>\n",
       "    </tr>\n",
       "    <tr>\n",
       "      <th>13</th>\n",
       "      <td>1993</td>\n",
       "      <td>13.181</td>\n",
       "      <td>10.6</td>\n",
       "      <td>3.314</td>\n",
       "      <td>0.3359</td>\n",
       "      <td>13</td>\n",
       "      <td>11.0832</td>\n",
       "      <td>14.4102</td>\n",
       "      <td>-0.004</td>\n",
       "    </tr>\n",
       "    <tr>\n",
       "      <th>14</th>\n",
       "      <td>1994</td>\n",
       "      <td>16.312</td>\n",
       "      <td>10.3</td>\n",
       "      <td>3.131</td>\n",
       "      <td>0.2375</td>\n",
       "      <td>14</td>\n",
       "      <td>14.8057</td>\n",
       "      <td>16.1863</td>\n",
       "      <td>-0.003</td>\n",
       "    </tr>\n",
       "  </tbody>\n",
       "</table>\n",
       "</div>"
      ],
      "text/plain": [
       "    Year     GDP   UPR  GDP_diff  GDP_growth  time  GDP_pred  GDP_pred2  UPR_diff\n",
       "10  1990  6.472   12.3  0.179     0.0284      10    7.0687    10.1679   NaN      \n",
       "11  1991  7.642   10.4  1.170     0.1808      11    7.2697    11.4212   -0.019   \n",
       "12  1992  9.867   11.0  2.225     0.2912      12    8.5839    12.8289    0.006   \n",
       "13  1993  13.181  10.6  3.314     0.3359      13    11.0832   14.4102   -0.004   \n",
       "14  1994  16.312  10.3  3.131     0.2375      14    14.8057   16.1863   -0.003   "
      ]
     },
     "execution_count": 56,
     "metadata": {},
     "output_type": "execute_result"
    }
   ],
   "source": [
    "df[10:15]"
   ]
  },
  {
   "cell_type": "code",
   "execution_count": 50,
   "metadata": {},
   "outputs": [
    {
     "name": "stderr",
     "output_type": "stream",
     "text": [
      "/home/system-gru/anaconda3/lib/python3.6/site-packages/scipy/stats/stats.py:1713: FutureWarning: Using a non-tuple sequence for multidimensional indexing is deprecated; use `arr[tuple(seq)]` instead of `arr[seq]`. In the future this will be interpreted as an array index, `arr[np.array(seq)]`, which will result either in an error or a different result.\n",
      "  return np.add.reduce(sorted[indexer] * weights, axis=axis) / sumval\n"
     ]
    },
    {
     "data": {
      "text/plain": [
       "<matplotlib.axes._subplots.AxesSubplot at 0x7f92faef96d8>"
      ]
     },
     "execution_count": 50,
     "metadata": {},
     "output_type": "execute_result"
    },
    {
     "data": {
      "image/png": "[encoded data removed]",
      "text/plain": [
       "<Figure size 432x288 with 1 Axes>"
      ]
     },
     "metadata": {
      "needs_background": "light"
     },
     "output_type": "display_data"
    }
   ],
   "source": [
    "sns.regplot(x=\"Year\", y=\"UPR_diff\", data=df)\n",
    "# sns.regplot(x=\"Year\", y=\"GDP_growth\", data=df)"
   ]
  },
  {
   "cell_type": "code",
   "execution_count": 51,
   "metadata": {},
   "outputs": [
    {
     "name": "stderr",
     "output_type": "stream",
     "text": [
      "/home/system-gru/anaconda3/lib/python3.6/site-packages/scipy/stats/stats.py:1713: FutureWarning: Using a non-tuple sequence for multidimensional indexing is deprecated; use `arr[tuple(seq)]` instead of `arr[seq]`. In the future this will be interpreted as an array index, `arr[np.array(seq)]`, which will result either in an error or a different result.\n",
      "  return np.add.reduce(sorted[indexer] * weights, axis=axis) / sumval\n",
      "/home/system-gru/anaconda3/lib/python3.6/site-packages/matplotlib/axes/_axes.py:6521: MatplotlibDeprecationWarning: \n",
      "The 'normed' kwarg was deprecated in Matplotlib 2.1 and will be removed in 3.1. Use 'density' instead.\n",
      "  alternative=\"'density'\", removal=\"3.1\")\n"
     ]
    },
    {
     "data": {
      "text/plain": [
       "<matplotlib.axes._subplots.AxesSubplot at 0x7f92faed2940>"
      ]
     },
     "execution_count": 51,
     "metadata": {},
     "output_type": "execute_result"
    },
    {
     "data": {
      "image/png": "[encoded data removed]",
      "text/plain": [
       "<Figure size 432x288 with 1 Axes>"
      ]
     },
     "metadata": {
      "needs_background": "light"
     },
     "output_type": "display_data"
    }
   ],
   "source": [
    "from scipy.stats import norm\n",
    "sns.distplot(df[\"UPR_diff\"][11:], fit=norm, kde=False)"
   ]
  },
  {
   "cell_type": "code",
   "execution_count": 53,
   "metadata": {},
   "outputs": [
    {
     "data": {
      "text/plain": [
       "(-0.0036071428571428574, 0.009689240297929474)"
      ]
     },
     "execution_count": 53,
     "metadata": {},
     "output_type": "execute_result"
    }
   ],
   "source": [
    "u_rate_mu, u_rate_std = norm.fit(df[\"UPR_diff\"][11:])\n",
    "u_rate_mu, u_rate_std"
   ]
  },
  {
   "cell_type": "markdown",
   "metadata": {},
   "source": [
    "<h1> (\"Chưa xong\") </h1>"
   ]
  },
  {
   "cell_type": "markdown",
   "metadata": {},
   "source": [
    "<h3> Mô hình 2: Linear Regression </h3>\n",
    "\n",
    "Hàm y = w * x + b + Normal(0, std)"
   ]
  },
  {
   "cell_type": "code",
   "execution_count": 58,
   "metadata": {},
   "outputs": [],
   "source": [
    "from scipy import stats\n",
    "\n",
    "x_time = df[\"time\"][10:]\n",
    "y_UPR = df[\"UPR\"][10:]\n",
    "\n",
    "slope, intercept, r_value, p_value, std_err = stats.linregress(x_time, y_UPR)"
   ]
  },
  {
   "cell_type": "code",
   "execution_count": 60,
   "metadata": {},
   "outputs": [
    {
     "data": {
      "text/plain": [
       "[-0.31019704433497536, 13.148177339901478, 0.024499580683192322]"
      ]
     },
     "execution_count": 60,
     "metadata": {},
     "output_type": "execute_result"
    }
   ],
   "source": [
    "[slope, intercept, std_err]"
   ]
  },
  {
   "cell_type": "markdown",
   "metadata": {},
   "source": [
    "<h1> III. Mô hình hóa quan hệ giữa tỷ lệ thất nghiệp và GDP: </h1>"
   ]
  },
  {
   "cell_type": "code",
   "execution_count": 69,
   "metadata": {},
   "outputs": [
    {
     "data": {
      "text/plain": [
       "<seaborn.axisgrid.FacetGrid at 0x7f92fac02278>"
      ]
     },
     "execution_count": 69,
     "metadata": {},
     "output_type": "execute_result"
    },
    {
     "data": {
      "image/png": "[encoded data removed]",
      "text/plain": [
       "<Figure size 360x360 with 1 Axes>"
      ]
     },
     "metadata": {
      "needs_background": "light"
     },
     "output_type": "display_data"
    }
   ],
   "source": [
    "sns.lmplot(x=\"GDP\", y=\"UPR\", data=df, fit_reg=False)"
   ]
  },
  {
   "cell_type": "markdown",
   "metadata": {},
   "source": [
    "Dựa vào mô hình Okun và biểu đồ trên, ta có thể thấy GDP và UPR có liên quan mật thiết đến nhau. \n",
    "Ví dụ như mỗi đơn vị GDP tăng sẽ dẫn đến việc giảm tỷ lệ thất nghiệp. "
   ]
  }
 ],
 "metadata": {
  "kernelspec": {
   "display_name": "Python 3",
   "language": "python",
   "name": "python3"
  },
  "language_info": {
   "codemirror_mode": {
    "name": "ipython",
    "version": 3
   },
   "file_extension": ".py",
   "mimetype": "text/x-python",
   "name": "python",
   "nbconvert_exporter": "python",
   "pygments_lexer": "ipython3",
   "version": "3.6.8"
  }
 },
 "nbformat": 4,
 "nbformat_minor": 2
}
